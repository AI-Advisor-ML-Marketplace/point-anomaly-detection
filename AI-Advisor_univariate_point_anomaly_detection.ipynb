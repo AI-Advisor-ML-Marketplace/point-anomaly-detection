{
 "cells": [
  {
   "cell_type": "markdown",
   "metadata": {},
   "source": [
    "# Train, tune, and deploy a custom ML model using <font color='red'>AI-Advisor Univariate Point Anomaly Detection </font> Algorithm from AWS Marketplace \n",
    "\n",
    "\n",
    "<font color='red'> This algorithm detects anomaly points for continuous univariate time series data that peaks up suddenly, using unsupervised Machine Learning Anomaly Detection approach. </font>\n",
    "\n",
    "This sample notebook shows you how to train a custom ML model using <font color='red'> For Seller to update: [AI-Advisor UPAD](https://github.com/AI-Advisor-ML-Marketplace/point-anomaly-detection)</font> from AWS Marketplace.\n",
    "\n",
    "> **Note**: This is a reference notebook and it cannot run unless you make changes suggested in the notebook.\n",
    "\n",
    "## Pre-requisites\n",
    "1. **Note**: This notebook contains elements which render correctly in Jupyter interface. Open this notebook from an Amazon SageMaker Notebook Instance or Amazon SageMaker Studio.\n",
    "1. Ensure that IAM role used has **AmazonSageMakerFullAccess**\n",
    "1. Some hands-on experience using [Amazon SageMaker](https://aws.amazon.com/sagemaker/).\n",
    "1. To use this algorithm successfully, ensure that:\n",
    "    1. Either your IAM role has these three permissions and you have authority to make AWS Marketplace subscriptions in the AWS account used: \n",
    "        1. **aws-marketplace:ViewSubscriptions**\n",
    "        1. **aws-marketplace:Unsubscribe**\n",
    "        1. **aws-marketplace:Subscribe**  \n",
    "    2. or your AWS account has a subscription to <font color='red'> For Seller to update: [AI-Advisor UPAD](https://github.com/AI-Advisor-ML-Marketplace/point-anomaly-detection)</font>. \n",
    "\n",
    "## Contents\n",
    "1. [Subscribe to the algorithm](#1.-Subscribe-to-the-algorithm)\n",
    "2. [Prepare dataset](#2.-Prepare-dataset)\n",
    "\t1. [Dataset format expected by the algorithm](#A.-Dataset-format-expected-by-the-algorithm)\n",
    "\t2. [Configure and visualize train and test dataset](#B.-Configure-and-visualize-train-and-test-dataset)\n",
    "\t3. [Upload datasets to Amazon S3](#C.-Upload-datasets-to-Amazon-S3)\n",
    "3. [Train a machine learning model](#3:-Train-a-machine-learning-model)\n",
    "\t1. [Set up environment](#3.1-Set-up-environment)\n",
    "\t2. [Train a model](#3.2-Train-a-model)\n",
    "4. [Deploy model and verify results](#4:-Deploy-model-and-verify-results)\n",
    "    1. [Deploy trained model](#A.-Deploy-trained-model)\n",
    "    2. [Create input payload](#B.-Create-input-payload)\n",
    "    3. [Perform real-time inference](#C.-Perform-real-time-inference)\n",
    "    4. [Visualize output](#D.-Visualize-output)\n",
    "    6. [Delete the endpoint](#F.-Delete-the-endpoint)\n",
    "5. [Perform Batch inference](#5.-Perform-Batch-inference)\n",
    "6. [Clean-up](#6.-Clean-up)\n",
    "\t1. [Delete the model](#A.-Delete-the-model)\n",
    "\n",
    "\n",
    "## Usage instructions\n",
    "You can run this notebook one cell at a time (By using Shift+Enter for running a cell)."
   ]
  },
  {
   "cell_type": "markdown",
   "metadata": {},
   "source": [
    "## 1. Subscribe to the algorithm"
   ]
  },
  {
   "cell_type": "markdown",
   "metadata": {},
   "source": [
    "To subscribe to the algorithm:\n",
    "1. Open the algorithm listing page <font color='red'> For Seller to update: [AI-Advisor UPAD](https://github.com/AI-Advisor-ML-Marketplace/point-anomaly-detection)</font>\n",
    "1. On the AWS Marketplace listing,  click on **Continue to subscribe** button.\n",
    "1. On the **Subscribe to this software** page, review and click on **\"Accept Offer\"** if you agree with EULA, pricing, and support terms. \n",
    "1. Once you click on **Continue to configuration button** and then choose a **region**, you will see a **Product Arn**. This is the algorithm ARN that you need to specify while training a custom ML model. Copy the ARN corresponding to your region and specify the same in the following cell."
   ]
  },
  {
   "cell_type": "markdown",
   "metadata": {
    "tags": []
   },
   "source": [
    "![product_arn_image](images/product_arn_image.png)"
   ]
  },
  {
   "cell_type": "code",
   "execution_count": 29,
   "metadata": {
    "tags": []
   },
   "outputs": [
    {
     "name": "stdin",
     "output_type": "stream",
     "text": [
      "Access key:  ········\n",
      "Secret key:  ········\n"
     ]
    }
   ],
   "source": [
    "from getpass import getpass \n",
    "\n",
    "# SHAPE\n",
    "# algo_arn = \"<Customer to specify algorithm ARN corresponding to their AWS region follow the instruction above>\"\n",
    "\n",
    "########################################CHANGE####################################################\n",
    "# SAMPLE\n",
    "algo_arn='arn:aws:sagemaker:us-east-2:438613450817:algorithm/aiadvisor-pad-v1-3-1'\n",
    "##################################################################################################\n",
    "\n",
    "# get your seesion information\n",
    "#####################################################\n",
    "aws_region = \"us-east-2\"  ##\n",
    "aws_access_key = getpass(prompt=\"Access key: \")\n",
    "aws_secret_key = getpass(prompt=\"Secret key: \")\n",
    "######################aws_access_key#########################"
   ]
  },
  {
   "cell_type": "markdown",
   "metadata": {},
   "source": [
    "## 2. Prepare dataset"
   ]
  },
  {
   "cell_type": "code",
   "execution_count": 30,
   "metadata": {
    "tags": []
   },
   "outputs": [],
   "source": [
    "import base64\n",
    "import json\n",
    "import uuid\n",
    "from sagemaker import ModelPackage\n",
    "import sagemaker as sage\n",
    "from sagemaker import get_execution_role\n",
    "from sagemaker import ModelPackage\n",
    "from urllib.parse import urlparse\n",
    "import boto3\n",
    "from IPython.display import Image\n",
    "from PIL import Image as ImageEdit\n",
    "import urllib.request\n",
    "import numpy as np\n",
    "import pandas as pd"
   ]
  },
  {
   "cell_type": "markdown",
   "metadata": {},
   "source": [
    "### A. Dataset format expected by the algorithm"
   ]
  },
  {
   "cell_type": "markdown",
   "metadata": {},
   "source": [
    "This solution follows these **2 steps**:  `Training` and `Testing` the algorithm.\n",
    "\n",
    "**Train**\n",
    "- The algorithm trains on user provided dataset.\n",
    "- Dataset must be in `txt/csv` shape, under `./data/train/` folder, with 'utf-8' encoding.\n",
    "\n",
    "**Test**\n",
    "- After the Machine Learning model is trained, it can be used to make prediction using test dataset.\n",
    "- The algorithm also tests on user provided dataset.\n",
    "- Dataset must be in `txt/csv` shape, under `./data/test/` folder, with 'utf-8' encoding."
   ]
  },
  {
   "cell_type": "markdown",
   "metadata": {
    "tags": []
   },
   "source": [
    "### B. Configure and visualize train and test dataset\n",
    "The `train` and `test` dataset should look like this as below:"
   ]
  },
  {
   "cell_type": "code",
   "execution_count": 31,
   "metadata": {
    "tags": []
   },
   "outputs": [],
   "source": [
    "import pandas as pd # import padas to show how data looks like"
   ]
  },
  {
   "cell_type": "code",
   "execution_count": 32,
   "metadata": {
    "tags": []
   },
   "outputs": [],
   "source": [
    "# SHAPE\n",
    "# training_dataset = \"data/train/<FileName.ext>\"\n",
    "\n",
    "########################################CHANGE####################################################\n",
    "# SAMPLE\n",
    "training_dataset = \"data/training/train.csv\"\n",
    "##################################################################################################"
   ]
  },
  {
   "cell_type": "code",
   "execution_count": 33,
   "metadata": {
    "tags": []
   },
   "outputs": [
    {
     "data": {
      "text/html": [
       "<div>\n",
       "<style scoped>\n",
       "    .dataframe tbody tr th:only-of-type {\n",
       "        vertical-align: middle;\n",
       "    }\n",
       "\n",
       "    .dataframe tbody tr th {\n",
       "        vertical-align: top;\n",
       "    }\n",
       "\n",
       "    .dataframe thead th {\n",
       "        text-align: right;\n",
       "    }\n",
       "</style>\n",
       "<table border=\"1\" class=\"dataframe\">\n",
       "  <thead>\n",
       "    <tr style=\"text-align: right;\">\n",
       "      <th></th>\n",
       "      <th>timestamp</th>\n",
       "      <th>value</th>\n",
       "      <th>anomaly</th>\n",
       "    </tr>\n",
       "  </thead>\n",
       "  <tbody>\n",
       "    <tr>\n",
       "      <th>598</th>\n",
       "      <td>2014-03-09 06:26:00</td>\n",
       "      <td>44.774</td>\n",
       "      <td>False</td>\n",
       "    </tr>\n",
       "    <tr>\n",
       "      <th>599</th>\n",
       "      <td>2014-03-09 06:31:00</td>\n",
       "      <td>45.728</td>\n",
       "      <td>False</td>\n",
       "    </tr>\n",
       "    <tr>\n",
       "      <th>600</th>\n",
       "      <td>2014-03-09 06:36:00</td>\n",
       "      <td>44.756</td>\n",
       "      <td>False</td>\n",
       "    </tr>\n",
       "    <tr>\n",
       "      <th>601</th>\n",
       "      <td>2014-03-09 06:41:00</td>\n",
       "      <td>45.258</td>\n",
       "      <td>False</td>\n",
       "    </tr>\n",
       "    <tr>\n",
       "      <th>602</th>\n",
       "      <td>2014-03-09 06:46:00</td>\n",
       "      <td>42.522</td>\n",
       "      <td>False</td>\n",
       "    </tr>\n",
       "  </tbody>\n",
       "</table>\n",
       "</div>"
      ],
      "text/plain": [
       "               timestamp   value  anomaly\n",
       "598  2014-03-09 06:26:00  44.774    False\n",
       "599  2014-03-09 06:31:00  45.728    False\n",
       "600  2014-03-09 06:36:00  44.756    False\n",
       "601  2014-03-09 06:41:00  45.258    False\n",
       "602  2014-03-09 06:46:00  42.522    False"
      ]
     },
     "execution_count": 33,
     "metadata": {},
     "output_type": "execute_result"
    }
   ],
   "source": [
    "# show sample of training dataset\n",
    "df = pd.read_csv(training_dataset)\n",
    "df.tail(5)"
   ]
  },
  {
   "cell_type": "code",
   "execution_count": 34,
   "metadata": {
    "tags": []
   },
   "outputs": [],
   "source": [
    "# SHAPE\n",
    "# test_dataset = \"data/test/<FileName.ext>\"\n",
    "\n",
    "########################################CHANGE####################################################\n",
    "# SAMPLE\n",
    "test_dataset = \"data/inference/test.csv\"\n",
    "##################################################################################################"
   ]
  },
  {
   "cell_type": "code",
   "execution_count": 35,
   "metadata": {
    "tags": []
   },
   "outputs": [
    {
     "data": {
      "text/html": [
       "<div>\n",
       "<style scoped>\n",
       "    .dataframe tbody tr th:only-of-type {\n",
       "        vertical-align: middle;\n",
       "    }\n",
       "\n",
       "    .dataframe tbody tr th {\n",
       "        vertical-align: top;\n",
       "    }\n",
       "\n",
       "    .dataframe thead th {\n",
       "        text-align: right;\n",
       "    }\n",
       "</style>\n",
       "<table border=\"1\" class=\"dataframe\">\n",
       "  <thead>\n",
       "    <tr style=\"text-align: right;\">\n",
       "      <th></th>\n",
       "      <th>timestamp</th>\n",
       "      <th>value</th>\n",
       "      <th>anomaly</th>\n",
       "    </tr>\n",
       "  </thead>\n",
       "  <tbody>\n",
       "    <tr>\n",
       "      <th>3413</th>\n",
       "      <td>2014-03-21 03:21:00</td>\n",
       "      <td>25.352</td>\n",
       "      <td>False</td>\n",
       "    </tr>\n",
       "    <tr>\n",
       "      <th>3414</th>\n",
       "      <td>2014-03-21 03:26:00</td>\n",
       "      <td>38.216</td>\n",
       "      <td>False</td>\n",
       "    </tr>\n",
       "    <tr>\n",
       "      <th>3415</th>\n",
       "      <td>2014-03-21 03:31:00</td>\n",
       "      <td>22.864</td>\n",
       "      <td>False</td>\n",
       "    </tr>\n",
       "    <tr>\n",
       "      <th>3416</th>\n",
       "      <td>2014-03-21 03:36:00</td>\n",
       "      <td>66.260</td>\n",
       "      <td>False</td>\n",
       "    </tr>\n",
       "    <tr>\n",
       "      <th>3417</th>\n",
       "      <td>2014-03-21 03:41:00</td>\n",
       "      <td>30.962</td>\n",
       "      <td>False</td>\n",
       "    </tr>\n",
       "  </tbody>\n",
       "</table>\n",
       "</div>"
      ],
      "text/plain": [
       "                timestamp   value  anomaly\n",
       "3413  2014-03-21 03:21:00  25.352    False\n",
       "3414  2014-03-21 03:26:00  38.216    False\n",
       "3415  2014-03-21 03:31:00  22.864    False\n",
       "3416  2014-03-21 03:36:00  66.260    False\n",
       "3417  2014-03-21 03:41:00  30.962    False"
      ]
     },
     "execution_count": 35,
     "metadata": {},
     "output_type": "execute_result"
    }
   ],
   "source": [
    "# show sample of test dataset\n",
    "df = pd.read_csv(test_dataset)\n",
    "df.tail(5)"
   ]
  },
  {
   "cell_type": "markdown",
   "metadata": {},
   "source": [
    "### C. Upload datasets to Amazon S3"
   ]
  },
  {
   "cell_type": "markdown",
   "metadata": {},
   "source": [
    "<font color='red'>Do not change bucket parameter value. Do not hardcode your S3 bucket name.</font>"
   ]
  },
  {
   "cell_type": "code",
   "execution_count": 36,
   "metadata": {
    "tags": []
   },
   "outputs": [
    {
     "data": {
      "text/plain": [
       "'sagemaker-us-east-2-438613450817'"
      ]
     },
     "execution_count": 36,
     "metadata": {},
     "output_type": "execute_result"
    }
   ],
   "source": [
    "import boto3\n",
    "import sagemaker\n",
    "\n",
    "boto_session = boto3.Session(region_name=aws_region, aws_access_key_id=aws_access_key, aws_secret_access_key=aws_secret_key)\n",
    "sagemaker_session = sagemaker.Session(boto_session=boto_session) # get session info\n",
    "\n",
    "bucket = sagemaker_session.default_bucket()\n",
    "bucket"
   ]
  },
  {
   "cell_type": "code",
   "execution_count": 37,
   "metadata": {
    "tags": []
   },
   "outputs": [
    {
     "name": "stdout",
     "output_type": "stream",
     "text": [
      "Training input uploaded to : s3://sagemaker-us-east-2-438613450817/point-anomaly-detection/traing-input-data/train.csv\n"
     ]
    }
   ],
   "source": [
    "# upload training data to s3 bucket\n",
    "algo_prefix = \"point-anomaly-detection\"\n",
    "training_data = sagemaker_session.upload_data(training_dataset, bucket=bucket, key_prefix=algo_prefix + \"/traing-input-data\")\n",
    "print(\"Training input uploaded to : \" + training_data)"
   ]
  },
  {
   "cell_type": "code",
   "execution_count": 38,
   "metadata": {
    "tags": []
   },
   "outputs": [
    {
     "name": "stdout",
     "output_type": "stream",
     "text": [
      "Inference input uploaded to : s3://sagemaker-us-east-2-438613450817/point-anomaly-detection/inference-input-data/test.csv\n"
     ]
    }
   ],
   "source": [
    "# upload test data to s3 bucket\n",
    "test_data = sagemaker_session.upload_data(test_dataset, bucket=bucket, key_prefix=algo_prefix+\"/inference-input-data\")\n",
    "print(\"Inference input uploaded to : \" + test_data)"
   ]
  },
  {
   "cell_type": "markdown",
   "metadata": {},
   "source": [
    "## 3: Train a machine learning model"
   ]
  },
  {
   "cell_type": "markdown",
   "metadata": {},
   "source": [
    "Now that dataset is available in an accessible Amazon S3 bucket, we are ready to train a machine learning model. "
   ]
  },
  {
   "cell_type": "markdown",
   "metadata": {},
   "source": [
    "### 3.1 Set up environment"
   ]
  },
  {
   "cell_type": "code",
   "execution_count": 39,
   "metadata": {
    "tags": []
   },
   "outputs": [
    {
     "name": "stdin",
     "output_type": "stream",
     "text": [
      "Role name:  sagemaker-operation\n"
     ]
    },
    {
     "name": "stdout",
     "output_type": "stream",
     "text": [
      "Result: arn:aws:iam::438613450817:role/sagemaker-operation\n"
     ]
    }
   ],
   "source": [
    "## If you are running on a local server, enter the role name specified in IAM role.\n",
    "\n",
    "sts = boto3.client('sts', region_name=aws_region, aws_access_key_id=aws_access_key, aws_secret_access_key=aws_secret_key)\n",
    "caller_identity = sts.get_caller_identity()\n",
    "account_id = caller_identity['Account']\n",
    "role_name = input(\"Role name: \")\n",
    "role = f'arn:aws:iam::{account_id}:role/{role_name}'\n",
    "\n",
    "\n",
    "\n",
    "### If you are running in sagemaker jupyter notebook then uncomment the below. (The above is commented out.) \n",
    "\n",
    "#from sagemaker import get_execution_role\n",
    "#role = get_execution_role(sagemaker_session=sagemaker_session)\n",
    "\n",
    "print (f\"Result: {role}\")"
   ]
  },
  {
   "cell_type": "markdown",
   "metadata": {},
   "source": [
    "<font color='red'>For Seller to update: update algorithm sepcific unique prefix in following cell. </font>"
   ]
  },
  {
   "cell_type": "code",
   "execution_count": 40,
   "metadata": {
    "tags": []
   },
   "outputs": [],
   "source": [
    "# SHAPE\n",
    "# output_location = \"s3://{}/<For seller to Update:Update a unique prefix>/{}\".format(bucket, \"output\")\n",
    "\n",
    "########################################CHANGE####################################################\n",
    "# SAMPLE\n",
    "output_location = \"s3://{}/ai-advisor-upad/{}\".format(bucket, \"output\")\n",
    "##################################################################################################"
   ]
  },
  {
   "cell_type": "markdown",
   "metadata": {},
   "source": [
    "### 3.2 Train a model"
   ]
  },
  {
   "cell_type": "markdown",
   "metadata": {},
   "source": [
    "You can also find more information about dataset format in **Hyperparameters** section of <font color='red'> For Seller to update: [AI-Advisor UPAD](https://github.com/AI-Advisor-ML-Marketplace/point-anomaly-detection).</font>"
   ]
  },
  {
   "cell_type": "code",
   "execution_count": 43,
   "metadata": {
    "tags": []
   },
   "outputs": [],
   "source": [
    "# SHAPE\n",
    "# hyperparameters = {}\n",
    "\n",
    "########################################CHANGE####################################################\n",
    "# Define hyperparameters\n",
    "#hyperparameters = {'hpo_repeat': '10', 'min_rows': '200', 'train_models': 'all'}\n",
    "hyperparameters = {\n",
    "            'common_x_columns': 'value',\n",
    "            'common_time_column': 'timestamp',\n",
    "            'common_index_columns': '',\n",
    "    \n",
    "            'train_hpo_repeat': 3,                 \n",
    "            'train_decision_rule': 'upper'}\n",
    "##################################################################################################"
   ]
  },
  {
   "cell_type": "markdown",
   "metadata": {},
   "source": [
    "<font color='red'>For Seller to update: Update appropriate values in estimator definition and ensure that fit call works as expected.</font>"
   ]
  },
  {
   "cell_type": "markdown",
   "metadata": {},
   "source": [
    "For information on creating an `Estimator` object, see [documentation](https://sagemaker.readthedocs.io/en/stable/api/training/estimators.html)"
   ]
  },
  {
   "cell_type": "code",
   "execution_count": 76,
   "metadata": {
    "tags": []
   },
   "outputs": [
    {
     "name": "stderr",
     "output_type": "stream",
     "text": [
      "INFO:sagemaker:Creating training-job with name: ai-advisor-upad-2023-03-31-04-27-03-412\n"
     ]
    },
    {
     "name": "stdout",
     "output_type": "stream",
     "text": [
      "2023-03-31 04:27:04 Starting - Starting the training job...\n",
      "2023-03-31 04:27:18 Starting - Preparing the instances for training...\n",
      "2023-03-31 04:28:20 Downloading - Downloading input data\n",
      "2023-03-31 04:28:20 Training - Downloading the training image.........\n",
      "2023-03-31 04:29:46 Training - Training image download completed. Training in progress.\u001b[34mjson_path:  /opt/ml/input/config/hyperparameters.json\u001b[0m\n",
      "\u001b[34myaml_path:  /opt/program/framework/configure/pad.train.workflow.yaml\u001b[0m\n",
      "\u001b[34mcurrent mode :  train\u001b[0m\n",
      "\u001b[34m##############Train Hyperparameters overload complete##############\u001b[0m\n",
      "\u001b[34mjson_path:  /opt/ml/input/config/hyperparameters.json\u001b[0m\n",
      "\u001b[34myaml_path:  /opt/program/framework/configure/pad.inference.workflow.yaml\u001b[0m\n",
      "\u001b[34mcurrent mode :  inference\u001b[0m\n",
      "\u001b[34m##############Inference Hyperparameters overload complete##############\u001b[0m\n",
      "\u001b[34mTrain, Inference hyperparams overriden!\u001b[0m\n",
      "\u001b[34maip yaml file is replaced with aip_train yaml file!\u001b[0m\n",
      "\u001b[34mStart Train Pipeline!\u001b[0m\n",
      "\u001b[34m2023-03-31 04:29:48.831546: W tensorflow/stream_executor/platform/default/dso_loader.cc:64] Could not load dynamic library 'libcudart.so.11.0'; dlerror: libcudart.so.11.0: cannot open shared object file: No such file or directory\u001b[0m\n",
      "\u001b[34m2023-03-31 04:29:48.831582: I tensorflow/stream_executor/cuda/cudart_stub.cc:29] Ignore above cudart dlerror if you do not have a GPU set up on your machine.\u001b[0m\n",
      "\u001b[34m#033[95m***************************  INIT WORKFLOW  *********************************************#033[0m\u001b[0m\n",
      "\u001b[34m#033[95m[SIMULATOR SETTING : VERSION(0.2.1)]#033[0m\u001b[0m\n",
      "\u001b[34m#033[95m - NAMESPACE_NAME     : ai-advisor#033[0m\u001b[0m\n",
      "\u001b[34m#033[95m - PROJECT_NAME       : anomaly detectoin #033[0m\u001b[0m\n",
      "\u001b[34m#033[95m - WORFLOW_CRONTAB    : 0#033[0m\u001b[0m\n",
      "\u001b[34m#033[95m - WORFLOW_TYPE       : pad#033[0m\u001b[0m\n",
      "\u001b[34m#033[95m - WORFLOW_YAML       : pad.train.workflow.yaml#033[0m\u001b[0m\n",
      "\u001b[34m#033[95m[WORKFLOW SETTING]#033[0m\u001b[0m\n",
      "\u001b[34m#033[95m - WORKFLOW_NAME      : pad-train#033[0m\u001b[0m\n",
      "\u001b[34m#033[95m - WORKFLOW STEP      : ['INIT', 'INPUT', 'VALIDATE', 'PREPROCESS', 'TRAIN', 'OUTPUT']#033[0m\u001b[0m\n",
      "\u001b[34m#033[95m*****************************************************************************************#033[0m\u001b[0m\n",
      "\u001b[34m#033[95m*****************************************************************************************#033[0m\u001b[0m\n",
      "\u001b[34m#033[95m***************************  START WORKFLOW  ********************************************#033[0m\u001b[0m\n",
      "\u001b[34m#033[95m*****************************************************************************************#033[0m\u001b[0m\n",
      "\u001b[34m#033[92m\u001b[0m\n",
      "\u001b[34m################################# STEP INIT #####################################033[0m\n",
      " ARGUMENTS  : ['/opt/program/framework/scripts/data_init/tabular/asset_init.py', 'x_columns=value', 'y_column=none', 'time_column=timestamp', 'ignore_columns=', 'index_columns=', 'input_type=batch', 'data_length=1440', 'purpose=pad_train']\u001b[0m\n",
      "\u001b[34m#033[94m=========================== METADATA STORE ============================#033[0m\u001b[0m\n",
      "\u001b[34m#033[94mSTORE TYPE    : WORKFLOW#033[0m\u001b[0m\n",
      "\u001b[34m#033[94mDATABASE TYPE : SQLITE#033[0m\u001b[0m\n",
      "\u001b[34m#033[94mDATABASE FILE : /opt/program/framework/.storage/pad-train/pad-train.db#033[0m\u001b[0m\n",
      "\u001b[34m#033[94m=======================================================================#033[0m\u001b[0m\n",
      "\u001b[34m#033[94m========================== ASSET INFORMATION ==========================#033[0m\u001b[0m\n",
      "\u001b[34m#033[94mTIME(KST)    : 2023-03-31 13:29:50#033[0m\u001b[0m\n",
      "\u001b[34m#033[94mWORKSPACE    : ai-advisor#033[0m\u001b[0m\n",
      "\u001b[34m#033[94mPROJECT      : anomaly detectoin #033[0m\u001b[0m\n",
      "\u001b[34m#033[94mWORKFLOW     : pad-train#033[0m\u001b[0m\n",
      "\u001b[34m#033[94mWORKFLOW KEY : anomaly detectoin -pad-train-20230331042949#033[0m\u001b[0m\n",
      "\u001b[34m#033[94mASSET NAME   : init#033[0m\u001b[0m\n",
      "\u001b[34m#033[94masset ver.   : v.1.1.0#033[0m\u001b[0m\n",
      "\u001b[34m#033[94maiplib ver.  : 1.1.0#033[0m\u001b[0m\n",
      "\u001b[34m#033[94maiptfx ver.  : 0.6.4#033[0m\u001b[0m\n",
      "\u001b[34m#033[94m=======================================================================#033[0m\u001b[0m\n",
      "\u001b[34m************************************************************\u001b[0m\n",
      "\u001b[34m#011init -> run\u001b[0m\n",
      "\u001b[34m************************************************************\u001b[0m\n",
      "\u001b[34m{'aiptfx': '0.6.4', 'aiplib': '1.1.0', 'asset': 'v.1.1.0'}\u001b[0m\n",
      "\u001b[34m[METADATA][LOG][INFO] : The saved y_column is none.\u001b[0m\n",
      "\u001b[34m#033[92m\u001b[0m\n",
      "\u001b[34m################################# STEP INPUT #####################################033[0m\n",
      " ARGUMENTS  : ['/opt/program/framework/scripts/data_input/tabular/asset_input.py', 'input_path=/opt/ml/input/data/training/', 'gather_delay=0', 'date=2023-03-31T04:29:49', 'data_length=5000']\u001b[0m\n",
      "\u001b[34m#033[94m=========================== METADATA STORE ============================#033[0m\u001b[0m\n",
      "\u001b[34m#033[94mSTORE TYPE    : WORKFLOW#033[0m\u001b[0m\n",
      "\u001b[34m#033[94mDATABASE TYPE : SQLITE#033[0m\u001b[0m\n",
      "\u001b[34m#033[94mDATABASE FILE : /opt/program/framework/.storage/pad-train/pad-train.db#033[0m\u001b[0m\n",
      "\u001b[34m#033[94m=======================================================================#033[0m\u001b[0m\n",
      "\u001b[34m[METADATA][LOG][INFO] : version check success!!\u001b[0m\n",
      "\u001b[34m#033[94m========================== ASSET INFORMATION ==========================#033[0m\u001b[0m\n",
      "\u001b[34m#033[94mTIME(KST)    : 2023-03-31 13:29:50#033[0m\u001b[0m\n",
      "\u001b[34m#033[94mWORKSPACE    : ai-advisor#033[0m\u001b[0m\n",
      "\u001b[34m#033[94mPROJECT      : anomaly detectoin #033[0m\u001b[0m\n",
      "\u001b[34m#033[94mWORKFLOW     : pad-train#033[0m\u001b[0m\n",
      "\u001b[34m#033[94mWORKFLOW KEY : anomaly detectoin -pad-train-20230331042949#033[0m\u001b[0m\n",
      "\u001b[34m#033[94mASSET NAME   : input#033[0m\u001b[0m\n",
      "\u001b[34m#033[94masset ver.   : v.1.1.0#033[0m\u001b[0m\n",
      "\u001b[34m#033[94maiplib ver.  : 1.1.0#033[0m\u001b[0m\n",
      "\u001b[34m#033[94maiptfx ver.  : 0.6.4#033[0m\u001b[0m\n",
      "\u001b[34m#033[94m=======================================================================#033[0m\u001b[0m\n",
      "\u001b[34m************************************************************\u001b[0m\n",
      "\u001b[34m#011input -> run\u001b[0m\n",
      "\u001b[34m************************************************************\u001b[0m\n",
      "\u001b[34m{'asset': 'v.1.1.0', 'aiplib': '1.1.0', 'aiptfx': '0.6.4'}\u001b[0m\n",
      "\u001b[34m[METADATA][LOG][INFO] : The input date is 2023-03-31T04:29:50.\u001b[0m\n",
      "\u001b[34m[METADATA][LOG][INFO] : The date format used is %Y-%m-%dT%H:%M:%S.\u001b[0m\n",
      "\u001b[34mfatal: not a git repository (or any of the parent directories): .git\u001b[0m\n",
      "\u001b[34m>>>>> Load path : /opt/ml/input/data/training/\u001b[0m\n",
      "\u001b[34m>>>>> Load data : [2023-03-31T04:20:00 <= data < 2023-03-31T04:20:00]\u001b[0m\n",
      "\u001b[34m>>>>> Success loading data\u001b[0m\n",
      "\u001b[34m[METADATA][LOG][INFO] : If s3 is not included in the input_path, load the data from nas/efs. (Path: /opt/ml/input/data/training/)\u001b[0m\n",
      "\u001b[34m[METADATA][LOG][INFO] : The file for batch data has been loaded. (File name: train.csv)\u001b[0m\n",
      "\u001b[34m2023-03-31 04:29:50.268447: W tensorflow/stream_executor/platform/default/dso_loader.cc:64] Could not load dynamic library 'libcuda.so.1'; dlerror: libcuda.so.1: cannot open shared object file: No such file or directory\u001b[0m\n",
      "\u001b[34m2023-03-31 04:29:50.268486: W tensorflow/stream_executor/cuda/cuda_driver.cc:326] failed call to cuInit: UNKNOWN ERROR (303)\u001b[0m\n",
      "\u001b[34m2023-03-31 04:29:50.268506: I tensorflow/stream_executor/cuda/cuda_diagnostics.cc:156] kernel driver does not appear to be running on this host (ip-10-0-220-5.us-east-2.compute.internal): /proc/driver/nvidia/version does not exist\u001b[0m\n",
      "\u001b[34m2023-03-31 04:29:50.268801: I tensorflow/core/platform/cpu_feature_guard.cc:142] This TensorFlow binary is optimized with oneAPI Deep Neural Network Library (oneDNN) to use the following CPU instructions in performance-critical operations:  AVX2 AVX512F FMA\u001b[0m\n",
      "\u001b[34mTo enable them in other operations, rebuild TensorFlow with the appropriate compiler flags.\u001b[0m\n",
      "\u001b[34mSaved : /opt/program/framework/workflows/anomaly detectoin -pad-train-20230331042949/interface/input.tfrecord\u001b[0m\n",
      "\u001b[34m#033[92m\u001b[0m\n",
      "\u001b[34m################################# STEP VALIDATE #####################################033[0m\n",
      " ARGUMENTS  : ['/opt/program/framework/scripts/data_readiness/adxai/asset_readiness.py', 'outlier_by_sigma=5', 'outlier_by_percent=1', 'missing_ratio_allowed=1']\u001b[0m\n",
      "\u001b[34m#033[94m=========================== METADATA STORE ============================#033[0m\u001b[0m\n",
      "\u001b[34m#033[94mSTORE TYPE    : WORKFLOW#033[0m\u001b[0m\n",
      "\u001b[34m#033[94mDATABASE TYPE : SQLITE#033[0m\u001b[0m\n",
      "\u001b[34m#033[94mDATABASE FILE : /opt/program/framework/.storage/pad-train/pad-train.db#033[0m\u001b[0m\n",
      "\u001b[34m#033[94m=======================================================================#033[0m\u001b[0m\n",
      "\u001b[34m[METADATA][LOG][INFO] : version check success!!\u001b[0m\n",
      "\u001b[34m#033[94m========================== ASSET INFORMATION ==========================#033[0m\u001b[0m\n",
      "\u001b[34m#033[94mTIME(KST)    : 2023-03-31 13:29:51#033[0m\u001b[0m\n",
      "\u001b[34m#033[94mWORKSPACE    : ai-advisor#033[0m\u001b[0m\n",
      "\u001b[34m#033[94mPROJECT      : anomaly detectoin #033[0m\u001b[0m\n",
      "\u001b[34m#033[94mWORKFLOW     : pad-train#033[0m\u001b[0m\n",
      "\u001b[34m#033[94mWORKFLOW KEY : anomaly detectoin -pad-train-20230331042949#033[0m\u001b[0m\n",
      "\u001b[34m#033[94mASSET NAME   : validate#033[0m\u001b[0m\n",
      "\u001b[34m#033[94masset ver.   : None#033[0m\u001b[0m\n",
      "\u001b[34m#033[94maiplib ver.  : 1.1.0#033[0m\u001b[0m\n",
      "\u001b[34m#033[94maiptfx ver.  : 0.6.4#033[0m\u001b[0m\n",
      "\u001b[34m#033[94m=======================================================================#033[0m\u001b[0m\n",
      "\u001b[34m2023-03-31 04:29:51.144276: I tensorflow/compiler/mlir/mlir_graph_optimization_pass.cc:176] None of the MLIR Optimization Passes are enabled (registered 2)\u001b[0m\n",
      "\u001b[34m2023-03-31 04:29:51.161098: I tensorflow/core/platform/profile_utils/cpu_utils.cc:114] CPU Frequency: 2999995000 Hz\u001b[0m\n",
      "\u001b[34mLoaded : /opt/program/framework/workflows/anomaly detectoin -pad-train-20230331042949/interface/input.tfrecord\u001b[0m\n",
      "\u001b[34m************************************************************\u001b[0m\n",
      "\u001b[34m#011validate -> run\u001b[0m\n",
      "\u001b[34m************************************************************\u001b[0m\n",
      "\u001b[34m{'aiplib': '1.1.0', 'aiptfx': '0.6.4', 'asset': 'None'}\u001b[0m\n",
      "\u001b[34mfatal: not a git repository (or any of the parent directories): .git\u001b[0m\n",
      "\u001b[34mSaved : /opt/program/framework/workflows/anomaly detectoin -pad-train-20230331042949/interface/validate.tfrecord\u001b[0m\n",
      "\u001b[34m#033[92m\u001b[0m\n",
      "\u001b[34m################################# STEP PREPROCESS #####################################033[0m\n",
      " ARGUMENTS  : ['/opt/program/framework/scripts/data_preprocess/tabular/asset_preprocess.py', 'missing_x_adjust=dropna', 'missing_y_adjust=none', 'outlier_adjust=none']\u001b[0m\n",
      "\u001b[34m#033[94m=========================== METADATA STORE ============================#033[0m\u001b[0m\n",
      "\u001b[34m#033[94mSTORE TYPE    : WORKFLOW#033[0m\u001b[0m\n",
      "\u001b[34m#033[94mDATABASE TYPE : SQLITE#033[0m\u001b[0m\n",
      "\u001b[34m#033[94mDATABASE FILE : /opt/program/framework/.storage/pad-train/pad-train.db#033[0m\u001b[0m\n",
      "\u001b[34m#033[94m=======================================================================#033[0m\u001b[0m\n",
      "\u001b[34m[METADATA][LOG][INFO] : version check success!!\u001b[0m\n",
      "\u001b[34m#033[94m========================== ASSET INFORMATION ==========================#033[0m\u001b[0m\n",
      "\u001b[34m#033[94mTIME(KST)    : 2023-03-31 13:29:51#033[0m\u001b[0m\n",
      "\u001b[34m#033[94mWORKSPACE    : ai-advisor#033[0m\u001b[0m\n",
      "\u001b[34m#033[94mPROJECT      : anomaly detectoin #033[0m\u001b[0m\n",
      "\u001b[34m#033[94mWORKFLOW     : pad-train#033[0m\u001b[0m\n",
      "\u001b[34m#033[94mWORKFLOW KEY : anomaly detectoin -pad-train-20230331042949#033[0m\u001b[0m\n",
      "\u001b[34m#033[94mASSET NAME   : preprocess#033[0m\u001b[0m\n",
      "\u001b[34m#033[94masset ver.   : v.1.1.0#033[0m\u001b[0m\n",
      "\u001b[34m#033[94maiplib ver.  : 1.1.0#033[0m\u001b[0m\n",
      "\u001b[34m#033[94maiptfx ver.  : 0.6.4#033[0m\u001b[0m\n",
      "\u001b[34m#033[94m=======================================================================#033[0m\u001b[0m\n",
      "\u001b[34mLoaded : /opt/program/framework/workflows/anomaly detectoin -pad-train-20230331042949/interface/validate.tfrecord\u001b[0m\n",
      "\u001b[34m************************************************************\u001b[0m\n",
      "\u001b[34m#011preprocess -> run\u001b[0m\n",
      "\u001b[34m************************************************************\u001b[0m\n",
      "\u001b[34m{'aiplib': '1.1.0', 'aiptfx': '0.6.4', 'asset': 'v.1.1.0'}\u001b[0m\n",
      "\u001b[34mfatal: not a git repository (or any of the parent directories): .git\u001b[0m\n",
      "\u001b[34mSaved : /opt/program/framework/workflows/anomaly detectoin -pad-train-20230331042949/interface/preprocess.tfrecord\u001b[0m\n",
      "\u001b[34m#033[92m\u001b[0m\n",
      "\u001b[34m################################# STEP TRAIN #####################################033[0m\n",
      " ARGUMENTS  : ['/opt/program/framework/scripts/anomaly_detection/asset_train.py', 'train_models=all', 'decision_rule=upper', 'min_rows=300', 'hpo_repeat=3']\u001b[0m\n",
      "\u001b[34m#033[94m=========================== METADATA STORE ============================#033[0m\u001b[0m\n",
      "\u001b[34m#033[94mSTORE TYPE    : WORKFLOW#033[0m\u001b[0m\n",
      "\u001b[34m#033[94mDATABASE TYPE : SQLITE#033[0m\u001b[0m\n",
      "\u001b[34m#033[94mDATABASE FILE : /opt/program/framework/.storage/pad-train/pad-train.db#033[0m\u001b[0m\n",
      "\u001b[34m#033[94m=======================================================================#033[0m\u001b[0m\n",
      "\u001b[34m[METADATA][LOG][INFO] : version check success!!\u001b[0m\n",
      "\u001b[34m#033[94m========================== ASSET INFORMATION ==========================#033[0m\u001b[0m\n",
      "\u001b[34m#033[94mTIME(KST)    : 2023-03-31 13:29:52#033[0m\u001b[0m\n",
      "\u001b[34m#033[94mWORKSPACE    : ai-advisor#033[0m\u001b[0m\n",
      "\u001b[34m#033[94mPROJECT      : anomaly detectoin #033[0m\u001b[0m\n",
      "\u001b[34m#033[94mWORKFLOW     : pad-train#033[0m\u001b[0m\n",
      "\u001b[34m#033[94mWORKFLOW KEY : anomaly detectoin -pad-train-20230331042949#033[0m\u001b[0m\n",
      "\u001b[34m#033[94mASSET NAME   : train#033[0m\u001b[0m\n",
      "\u001b[34m#033[94masset ver.   : None#033[0m\u001b[0m\n",
      "\u001b[34m#033[94maiplib ver.  : 1.1.0#033[0m\u001b[0m\n",
      "\u001b[34m#033[94maiptfx ver.  : 0.6.4#033[0m\u001b[0m\n",
      "\u001b[34m#033[94m=======================================================================#033[0m\u001b[0m\n",
      "\u001b[34mLoaded : /opt/program/framework/workflows/anomaly detectoin -pad-train-20230331042949/interface/preprocess.tfrecord\u001b[0m\n",
      "\u001b[34m************************************************************\u001b[0m\n",
      "\u001b[34m#011train -> run\u001b[0m\n",
      "\u001b[34m************************************************************\u001b[0m\n",
      "\u001b[34m{'aiptfx': '0.6.4', 'aiplib': '1.1.0', 'asset': 'None'}\u001b[0m\n",
      "\u001b[34m입력한 모델: ['all']\u001b[0m\n",
      "\u001b[34mfatal: not a git repository (or any of the parent directories): .git\u001b[0m\n",
      "\u001b[34mThe model DT performs an additional threshold optimization process compared to other models.\u001b[0m\n",
      "\u001b[34mnext_params: {'rolling_window': 16.840969066998383, 'threshold_margin': 0.9219884385864644, 'ma_es': 1.2445487766104952}, opt_value: -0.07389510888154169\u001b[0m\n",
      "\u001b[34mnext_params: {'rolling_window': 91.75377895460261, 'threshold_margin': 0.4875475691650729, 'ma_es': 1.0115067337907975}, opt_value: -0.03859770420600105\u001b[0m\n",
      "\u001b[34mnext_params: {'rolling_window': 48.42023349486732, 'threshold_margin': 1.1813682301956414, 'ma_es': 1.8496299313627627}, opt_value: -0.09323672514619871\u001b[0m\n",
      "\u001b[34mnext_params: {'rolling_window': 16.840969066998383, 'threshold_margin': 0.9219884385864644, 'ma_es': 1.2445487766104952}, opt_value: -0.07389510888154169\u001b[0m\n",
      "\u001b[34mnext_params: {'rolling_window': 91.75377895460261, 'threshold_margin': 0.4875475691650729, 'ma_es': 1.0115067337907975}, opt_value: -0.03859770420600105\u001b[0m\n",
      "\u001b[34mnext_params: {'rolling_window': 48.42023349486732, 'threshold_margin': 1.1813682301956414, 'ma_es': 1.8496299313627627}, opt_value: -0.09323672514619871\u001b[0m\n",
      "\u001b[34mnext_params: {'rolling_window': 98.11112379442693, 'threshold_margin': 0.7143561170242244, 'ma_es': 1.5547106097353596}, opt_value: -0.06524657441324104\u001b[0m\n",
      "\u001b[34mnext_params: {'rolling_window': 63.48904268348694, 'threshold_margin': 0.6483639211360063, 'ma_es': 1.6355478338727636}, opt_value: -0.061732208259067986\u001b[0m\n",
      "\u001b[34mnext_params: {'rolling_window': 28.31968115141479, 'threshold_margin': 0.6421823012611977, 'ma_es': 1.6221417203443824}, opt_value: -0.05613091496812488\u001b[0m\n",
      "\u001b[34mnext_params: {'rolling_window': 45.314471268259084, 'threshold_margin': 1.154601409504903, 'ma_es': 1.9057299371987022}, opt_value: -0.09038050277810275\u001b[0m\n",
      "\u001b[34mnext_params: {'rolling_window': 56.889020659748084, 'threshold_margin': 1.883621187110924, 'ma_es': 1.7371548503445187}, opt_value: -0.12861450477626937\u001b[0m\n",
      "\u001b[34mnext_params: {'rolling_window': 33.82461291142536, 'threshold_margin': 0.9066570617671365, 'ma_es': 1.9708884408071665}, opt_value: -0.07237070437931223\u001b[0m\n",
      "\u001b[34mnext_params: {'rolling_window': 27.108542092279215, 'threshold_margin': 1.123975205677003, 'ma_es': 1.4872692251182058}, opt_value: -0.0926503514406739\u001b[0m\n",
      "\u001b[34mnext_params: {'rolling_window': 57.647754828299675, 'threshold_margin': 1.5630647480361195, 'ma_es': 1.7338724939588577}, opt_value: -0.11693749085053295\u001b[0m\n",
      "\u001b[34mnext_params: {'rolling_window': 63.2291912003673, 'threshold_margin': 1.5018933498828162, 'ma_es': 1.7621850345263261}, opt_value: -0.11575503083414707\u001b[0m\n",
      "\u001b[34mnext_params: {'rolling_window': 67.1496360081056, 'threshold_margin': 1.8708988267861268, 'ma_es': 1.496569654382607}, opt_value: -0.1140276874924758\u001b[0m\n",
      "\u001b[34mnext_params: {'rolling_window': 96.40410707072458, 'threshold_margin': 1.5424966200737877, 'ma_es': 1.0405986760984514}, opt_value: -0.09251000791323348\u001b[0m\n",
      "\u001b[34mnext_params: {'rolling_window': 95.83843822564707, 'threshold_margin': 1.8487327190364617, 'ma_es': 1.144544061262178}, opt_value: -0.10576907283251549\u001b[0m\n",
      "\u001b[34mnext_params: {'rolling_window': 25.22401921507229, 'threshold_margin': 1.8332748348957253, 'ma_es': 1.688149573632764}, opt_value: -0.11908117824896666\u001b[0m\n",
      "\u001b[34mnext_params: {'rolling_window': 98.05307945703105, 'threshold_margin': 1.6579310504511175, 'ma_es': 1.6753976777953574}, opt_value: -0.12851344896933123\u001b[0m\n",
      "\u001b[34mnext_params: {'rolling_window': 92.18248430988702, 'threshold_margin': 1.550530852253059, 'ma_es': 1.6792946535373567}, opt_value: -0.12152926929392313\u001b[0m\n",
      "\u001b[34mnext_params: {'rolling_window': 93.31766573919624, 'threshold_margin': 1.462695168794873, 'ma_es': 1.666276411720152}, opt_value: -0.11901306726011412\u001b[0m\n",
      "\u001b[34mnext_params: {'rolling_window': 90.85802076445978, 'threshold_margin': 1.4473800386653066, 'ma_es': 1.6797658642314905}, opt_value: -0.11901306726011412\u001b[0m\n",
      "\u001b[34mThe model (dt) is a parameter learning process using Bayesian Opt. (Number of learning iterations: 13)\u001b[0m\n",
      "\u001b[34mnext_params: {'rolling_window': 16.840969066998383, 'threshold_margin': 0.9219884385864644, 'ma_es': 1.2445487766104952}, opt_value: -0.07389510888154169\u001b[0m\n",
      "\u001b[34mnext_params: {'rolling_window': 91.75377895460261, 'threshold_margin': 0.4875475691650729, 'ma_es': 1.0115067337907975}, opt_value: -0.03859770420600105\u001b[0m\n",
      "\u001b[34mnext_params: {'rolling_window': 48.42023349486732, 'threshold_margin': 1.1813682301956414, 'ma_es': 1.8496299313627627}, opt_value: -0.09323672514619871\u001b[0m\n",
      "\u001b[34mnext_params: {'rolling_window': 98.11112379442693, 'threshold_margin': 0.7143561170242244, 'ma_es': 1.5547106097353596}, opt_value: -0.06524657441324104\u001b[0m\n",
      "\u001b[34mnext_params: {'rolling_window': 63.48904268348694, 'threshold_margin': 0.6483639211360063, 'ma_es': 1.6355478338727636}, opt_value: -0.061732208259067986\u001b[0m\n",
      "\u001b[34mnext_params: {'rolling_window': 28.31968115141479, 'threshold_margin': 0.6421823012611977, 'ma_es': 1.6221417203443824}, opt_value: -0.05613091496812488\u001b[0m\n",
      "\u001b[34mnext_params: {'rolling_window': 45.314471268259084, 'threshold_margin': 1.154601409504903, 'ma_es': 1.9057299371987022}, opt_value: -0.09038050277810275\u001b[0m\n",
      "\u001b[34mnext_params: {'rolling_window': 56.889020659748084, 'threshold_margin': 1.883621187110924, 'ma_es': 1.7371548503445187}, opt_value: -0.12861450477626937\u001b[0m\n",
      "\u001b[34mnext_params: {'rolling_window': 33.82461291142536, 'threshold_margin': 0.9066570617671365, 'ma_es': 1.9708884408071665}, opt_value: -0.07237070437931223\u001b[0m\n",
      "\u001b[34mnext_params: {'rolling_window': 27.108542092279215, 'threshold_margin': 1.123975205677003, 'ma_es': 1.4872692251182058}, opt_value: -0.0926503514406739\u001b[0m\n",
      "\u001b[34mnext_params: {'rolling_window': 57.647754828299675, 'threshold_margin': 1.5630647480361195, 'ma_es': 1.7338724939588577}, opt_value: -0.11693749085053295\u001b[0m\n",
      "\u001b[34mnext_params: {'rolling_window': 63.2291912003673, 'threshold_margin': 1.5018933498828162, 'ma_es': 1.7621850345263261}, opt_value: -0.11575503083414707\u001b[0m\n",
      "\u001b[34mnext_params: {'rolling_window': 67.1496360081056, 'threshold_margin': 1.8708988267861268, 'ma_es': 1.496569654382607}, opt_value: -0.1140276874924758\u001b[0m\n",
      "\u001b[34mThe model sr undergoes adjust range optimization process.\u001b[0m\n",
      "\u001b[34mnext_params: {'window_size_amp': 22, 'window_size_score': 160, 'threshold_level': 99.38936294459359}, opt_value: -0.6473888888888901\u001b[0m\n",
      "\u001b[34mnext_params: {'window_size_amp': 5, 'window_size_score': 192, 'threshold_level': 99.01035606041172}, opt_value: -0.6473888888888901\u001b[0m\n",
      "\u001b[34mnext_params: {'window_size_amp': 8, 'window_size_score': 151, 'threshold_level': 99.23127158034345}, opt_value: -0.6473888888888901\u001b[0m\n",
      "\u001b[34mnext_params: {'window_size_amp': 22, 'window_size_score': 160, 'threshold_level': 99.38936294459359}, opt_value: -0.6473888888888901\u001b[0m\n",
      "\u001b[34mnext_params: {'window_size_amp': 5, 'window_size_score': 192, 'threshold_level': 99.01035606041172}, opt_value: -0.6473888888888901\u001b[0m\n",
      "\u001b[34mnext_params: {'window_size_amp': 8, 'window_size_score': 151, 'threshold_level': 99.23127158034345}, opt_value: -0.6473888888888901\u001b[0m\n",
      "\u001b[34mnext_params: {'window_size_amp': 13, 'window_size_score': 285, 'threshold_level': 99.29101079227463}, opt_value: -0.6473888888888901\u001b[0m\n",
      "\u001b[34mnext_params: {'window_size_amp': 7, 'window_size_score': 54, 'threshold_level': 99.61827317220586}, opt_value: -0.5964753189129226\u001b[0m\n",
      "\u001b[34mnext_params: {'window_size_amp': 16, 'window_size_score': 186, 'threshold_level': 99.59147012754939}, opt_value: -0.6691652800887405\u001b[0m\n",
      "\u001b[34mnext_params: {'window_size_amp': 12, 'window_size_score': 245, 'threshold_level': 99.31715322188207}, opt_value: -0.6473888888888901\u001b[0m\n",
      "\u001b[34mnext_params: {'window_size_amp': 16, 'window_size_score': 55, 'threshold_level': 99.66343936531007}, opt_value: -0.6691652800887405\u001b[0m\n",
      "\u001b[34mnext_params: {'window_size_amp': 31, 'window_size_score': 51, 'threshold_level': 99.1710854209228}, opt_value: -0.6193878686700043\u001b[0m\n",
      "\u001b[34mnext_params: {'window_size_amp': 28, 'window_size_score': 129, 'threshold_level': 99.2645423772316}, opt_value: -0.6473888888888901\u001b[0m\n",
      "\u001b[34mnext_params: {'window_size_amp': 16, 'window_size_score': 59, 'threshold_level': 99.85121761111778}, opt_value: -0.5906090808416387\u001b[0m\n",
      "\u001b[34mnext_params: {'window_size_amp': 17, 'window_size_score': 97, 'threshold_level': 99.81679665796554}, opt_value: -0.6691652800887405\u001b[0m\n",
      "\u001b[34mnext_params: {'window_size_amp': 18, 'window_size_score': 97, 'threshold_level': 99.70830610576328}, opt_value: -0.6691652800887405\u001b[0m\n",
      "\u001b[34mnext_params: {'window_size_amp': 16, 'window_size_score': 97, 'threshold_level': 99.77882804153269}, opt_value: -0.6691652800887405\u001b[0m\n",
      "\u001b[34mnext_params: {'window_size_amp': 16, 'window_size_score': 99, 'threshold_level': 99.8428981480037}, opt_value: -0.5906090808416387\u001b[0m\n",
      "\u001b[34mnext_params: {'window_size_amp': 16, 'window_size_score': 97, 'threshold_level': 99.79301074943169}, opt_value: -0.6691652800887405\u001b[0m\n",
      "\u001b[34mnext_params: {'window_size_amp': 18, 'window_size_score': 103, 'threshold_level': 99.7421901237211}, opt_value: -0.6691652800887405\u001b[0m\n",
      "\u001b[34mnext_params: {'window_size_amp': 19, 'window_size_score': 99, 'threshold_level': 99.74032631069886}, opt_value: -0.6691652800887405\u001b[0m\n",
      "\u001b[34mnext_params: {'window_size_amp': 18, 'window_size_score': 103, 'threshold_level': 99.82110823073573}, opt_value: -0.6691652800887405\u001b[0m\n",
      "\u001b[34mnext_params: {'window_size_amp': 16, 'window_size_score': 101, 'threshold_level': 99.81038610121023}, opt_value: -0.6691652800887405\u001b[0m\n",
      "\u001b[34mThe model (sr) is a parameter learning process using Bayesian Opt. (Number of learning iterations: 13)\u001b[0m\n",
      "\u001b[34mnext_params: {'window_size_amp': 22, 'window_size_score': 160, 'threshold_level': 99.38936294459359}, opt_value: -0.6473888888888901\u001b[0m\n",
      "\u001b[34mnext_params: {'window_size_amp': 5, 'window_size_score': 192, 'threshold_level': 99.01035606041172}, opt_value: -0.6473888888888901\u001b[0m\n",
      "\u001b[34mnext_params: {'window_size_amp': 8, 'window_size_score': 151, 'threshold_level': 99.23127158034345}, opt_value: -0.6473888888888901\u001b[0m\n",
      "\u001b[34mnext_params: {'window_size_amp': 13, 'window_size_score': 285, 'threshold_level': 99.29101079227463}, opt_value: -0.6473888888888901\u001b[0m\n",
      "\u001b[34mnext_params: {'window_size_amp': 7, 'window_size_score': 54, 'threshold_level': 99.61827317220586}, opt_value: -0.5964753189129226\u001b[0m\n",
      "\u001b[34mnext_params: {'window_size_amp': 16, 'window_size_score': 186, 'threshold_level': 99.59147012754939}, opt_value: -0.6691652800887405\u001b[0m\n",
      "\u001b[34mnext_params: {'window_size_amp': 12, 'window_size_score': 245, 'threshold_level': 99.31715322188207}, opt_value: -0.6473888888888901\u001b[0m\n",
      "\u001b[34mnext_params: {'window_size_amp': 16, 'window_size_score': 55, 'threshold_level': 99.66343936531007}, opt_value: -0.6691652800887405\u001b[0m\n",
      "\u001b[34mnext_params: {'window_size_amp': 31, 'window_size_score': 51, 'threshold_level': 99.1710854209228}, opt_value: -0.6193878686700043\u001b[0m\n",
      "\u001b[34mnext_params: {'window_size_amp': 28, 'window_size_score': 129, 'threshold_level': 99.2645423772316}, opt_value: -0.6473888888888901\u001b[0m\n",
      "\u001b[34mnext_params: {'window_size_amp': 16, 'window_size_score': 59, 'threshold_level': 99.85121761111778}, opt_value: -0.5906090808416387\u001b[0m\n",
      "\u001b[34mnext_params: {'window_size_amp': 17, 'window_size_score': 97, 'threshold_level': 99.81679665796554}, opt_value: -0.6691652800887405\u001b[0m\n",
      "\u001b[34mnext_params: {'window_size_amp': 18, 'window_size_score': 97, 'threshold_level': 99.70830610576328}, opt_value: -0.6691652800887405\u001b[0m\n",
      "\u001b[34mThe model rrcf undergoes adjust range optimization process.\u001b[0m\n",
      "\u001b[34mnext_params: {'num_tree': 119, 'sample_size': 220, 'threshold_level': 99.38936294459359}, opt_value: -0.6741819190238487\u001b[0m\n",
      "\u001b[34mnext_params: {'num_tree': 117, 'sample_size': 166, 'threshold_level': 99.18357516434135}, opt_value: -0.6269379521424583\u001b[0m\n",
      "\u001b[34mnext_params: {'num_tree': 102, 'sample_size': 233, 'threshold_level': 99.88910590344837}, opt_value: -0.7465171650055361\u001b[0m\n",
      "\u001b[34mnext_params: {'num_tree': 119, 'sample_size': 220, 'threshold_level': 99.38936294459359}, opt_value: -0.6741819190238487\u001b[0m\n",
      "\u001b[34mnext_params: {'num_tree': 117, 'sample_size': 166, 'threshold_level': 99.18357516434135}, opt_value: -0.6269379521424583\u001b[0m\n",
      "\u001b[34mnext_params: {'num_tree': 102, 'sample_size': 233, 'threshold_level': 99.88910590344837}, opt_value: -0.7465171650055361\u001b[0m\n",
      "\u001b[34mnext_params: {'num_tree': 110, 'sample_size': 238, 'threshold_level': 99.88111123794428}, opt_value: -0.7465171650055361\u001b[0m\n",
      "\u001b[34mnext_params: {'num_tree': 111, 'sample_size': 168, 'threshold_level': 99.01872640073114}, opt_value: -0.597576516416248\u001b[0m\n",
      "\u001b[34mnext_params: {'num_tree': 103, 'sample_size': 173, 'threshold_level': 99.26795136767028}, opt_value: -0.6116555555555567\u001b[0m\n",
      "\u001b[34mnext_params: {'num_tree': 106, 'sample_size': 185, 'threshold_level': 99.77546345040149}, opt_value: -0.7465171650055361\u001b[0m\n",
      "\u001b[34mnext_params: {'num_tree': 108, 'sample_size': 164, 'threshold_level': 99.49954803608128}, opt_value: -0.6741819190238487\u001b[0m\n",
      "\u001b[34mnext_params: {'num_tree': 113, 'sample_size': 238, 'threshold_level': 99.46889020659748}, opt_value: -0.6691652800887405\u001b[0m\n",
      "\u001b[34mnext_params: {'num_tree': 113, 'sample_size': 115, 'threshold_level': 99.66343936531007}, opt_value: -0.6741819190238487\u001b[0m\n",
      "\u001b[34mnext_params: {'num_tree': 106, 'sample_size': 173, 'threshold_level': 99.853057424822}, opt_value: -0.7465171650055361\u001b[0m\n",
      "\u001b[34mnext_params: {'num_tree': 105, 'sample_size': 170, 'threshold_level': 99.83938048681952}, opt_value: -0.7465171650055361\u001b[0m\n",
      "\u001b[34mnext_params: {'num_tree': 104, 'sample_size': 202, 'threshold_level': 99.85978880642975}, opt_value: nan\u001b[0m\n",
      "\u001b[34mnext_params: {'num_tree': 119, 'sample_size': 220, 'threshold_level': 99.38936294459359}, opt_value: -0.6741819190238487\u001b[0m\n",
      "\u001b[34mnext_params: {'num_tree': 117, 'sample_size': 166, 'threshold_level': 99.18357516434135}, opt_value: -0.6269379521424583\u001b[0m\n",
      "\u001b[34mnext_params: {'num_tree': 102, 'sample_size': 233, 'threshold_level': 99.85000000000001}, opt_value: -0.7465171650055361\u001b[0m\n",
      "\u001b[34mnext_params: {'num_tree': 110, 'sample_size': 238, 'threshold_level': 99.85000000000001}, opt_value: -0.7465171650055361\u001b[0m\n",
      "\u001b[34mnext_params: {'num_tree': 111, 'sample_size': 168, 'threshold_level': 99.01872640073114}, opt_value: -0.597576516416248\u001b[0m\n",
      "\u001b[34mnext_params: {'num_tree': 103, 'sample_size': 173, 'threshold_level': 99.26795136767028}, opt_value: -0.6116555555555567\u001b[0m\n",
      "\u001b[34mnext_params: {'num_tree': 106, 'sample_size': 185, 'threshold_level': 99.77546345040149}, opt_value: -0.7465171650055361\u001b[0m\n",
      "\u001b[34mnext_params: {'num_tree': 108, 'sample_size': 164, 'threshold_level': 99.49954803608128}, opt_value: -0.6741819190238487\u001b[0m\n",
      "\u001b[34mnext_params: {'num_tree': 113, 'sample_size': 238, 'threshold_level': 99.46889020659748}, opt_value: -0.6691652800887405\u001b[0m\n",
      "\u001b[34mnext_params: {'num_tree': 113, 'sample_size': 115, 'threshold_level': 99.66343936531007}, opt_value: -0.6741819190238487\u001b[0m\n",
      "\u001b[34mnext_params: {'num_tree': 106, 'sample_size': 173, 'threshold_level': 99.85000000000001}, opt_value: -0.7465171650055361\u001b[0m\n",
      "\u001b[34mnext_params: {'num_tree': 105, 'sample_size': 169, 'threshold_level': 99.85000000000001}, opt_value: -0.7465171650055361\u001b[0m\n",
      "\u001b[34mnext_params: {'num_tree': 103, 'sample_size': 205, 'threshold_level': 99.75893533342655}, opt_value: -0.7465171650055361\u001b[0m\n",
      "\u001b[34mnext_params: {'num_tree': 105, 'sample_size': 187, 'threshold_level': 99.74269174173625}, opt_value: -0.6022767609539652\u001b[0m\n",
      "\u001b[34mnext_params: {'num_tree': 100, 'sample_size': 196, 'threshold_level': 99.79272511480274}, opt_value: -0.6741819190238487\u001b[0m\n",
      "\u001b[34mnext_params: {'num_tree': 104, 'sample_size': 188, 'threshold_level': 99.84407688642503}, opt_value: nan\u001b[0m\n",
      "\u001b[34mnext_params: {'num_tree': 119, 'sample_size': 220, 'threshold_level': 99.38936294459359}, opt_value: -0.6741819190238487\u001b[0m\n",
      "\u001b[34mnext_params: {'num_tree': 117, 'sample_size': 166, 'threshold_level': 99.18357516434135}, opt_value: -0.6269379521424583\u001b[0m\n",
      "\u001b[34mnext_params: {'num_tree': 102, 'sample_size': 233, 'threshold_level': 99.80000000000001}, opt_value: -0.7465171650055361\u001b[0m\n",
      "\u001b[34mnext_params: {'num_tree': 110, 'sample_size': 238, 'threshold_level': 99.80000000000001}, opt_value: -0.7465171650055361\u001b[0m\n",
      "\u001b[34mnext_params: {'num_tree': 111, 'sample_size': 168, 'threshold_level': 99.01872640073114}, opt_value: -0.597576516416248\u001b[0m\n",
      "\u001b[34mnext_params: {'num_tree': 103, 'sample_size': 173, 'threshold_level': 99.26795136767028}, opt_value: -0.6116555555555567\u001b[0m\n",
      "\u001b[34mnext_params: {'num_tree': 106, 'sample_size': 185, 'threshold_level': 99.77546345040149}, opt_value: -0.7465171650055361\u001b[0m\n",
      "\u001b[34mnext_params: {'num_tree': 108, 'sample_size': 164, 'threshold_level': 99.49954803608128}, opt_value: -0.6741819190238487\u001b[0m\n",
      "\u001b[34mnext_params: {'num_tree': 113, 'sample_size': 238, 'threshold_level': 99.46889020659748}, opt_value: -0.6691652800887405\u001b[0m\n",
      "\u001b[34mnext_params: {'num_tree': 113, 'sample_size': 115, 'threshold_level': 99.66343936531007}, opt_value: -0.6741819190238487\u001b[0m\n",
      "\u001b[34mnext_params: {'num_tree': 106, 'sample_size': 173, 'threshold_level': 99.80000000000001}, opt_value: -0.7465171650055361\u001b[0m\n",
      "\u001b[34mnext_params: {'num_tree': 102, 'sample_size': 181, 'threshold_level': 99.80000000000001}, opt_value: -0.7465171650055361\u001b[0m\n",
      "\u001b[34mnext_params: {'num_tree': 100, 'sample_size': 171, 'threshold_level': 99.75102345573673}, opt_value: -0.7465171650055361\u001b[0m\n",
      "\u001b[34mnext_params: {'num_tree': 102, 'sample_size': 190, 'threshold_level': 99.70974245585307}, opt_value: -0.7465171650055361\u001b[0m\n",
      "\u001b[34mnext_params: {'num_tree': 100, 'sample_size': 177, 'threshold_level': 99.71447440953257}, opt_value: -0.7465171650055361\u001b[0m\n",
      "\u001b[34mnext_params: {'num_tree': 101, 'sample_size': 156, 'threshold_level': 99.74538306244555}, opt_value: -0.7465171650055361\u001b[0m\n",
      "\u001b[34mnext_params: {'num_tree': 103, 'sample_size': 156, 'threshold_level': 99.74156709046447}, opt_value: -0.7465171650055361\u001b[0m\n",
      "\u001b[34mnext_params: {'num_tree': 102, 'sample_size': 179, 'threshold_level': 99.7732766237422}, opt_value: -0.7465171650055361\u001b[0m\n",
      "\u001b[34mnext_params: {'num_tree': 100, 'sample_size': 180, 'threshold_level': 99.58844040873133}, opt_value: -0.6741819190238487\u001b[0m\n",
      "\u001b[34mnext_params: {'num_tree': 111, 'sample_size': 171, 'threshold_level': 99.80000000000001}, opt_value: -0.7465171650055361\u001b[0m\n",
      "\u001b[34mnext_params: {'num_tree': 119, 'sample_size': 220, 'threshold_level': 99.38936294459359}, opt_value: -0.6741819190238487\u001b[0m\n",
      "\u001b[34mnext_params: {'num_tree': 117, 'sample_size': 166, 'threshold_level': 99.18357516434135}, opt_value: -0.6269379521424583\u001b[0m\n",
      "\u001b[34mnext_params: {'num_tree': 102, 'sample_size': 233, 'threshold_level': 99.80000000000001}, opt_value: -0.7465171650055361\u001b[0m\n",
      "\u001b[34mnext_params: {'num_tree': 110, 'sample_size': 238, 'threshold_level': 99.80000000000001}, opt_value: -0.7465171650055361\u001b[0m\n",
      "\u001b[34mnext_params: {'num_tree': 111, 'sample_size': 168, 'threshold_level': 99.01872640073114}, opt_value: -0.597576516416248\u001b[0m\n",
      "\u001b[34mnext_params: {'num_tree': 103, 'sample_size': 173, 'threshold_level': 99.26795136767028}, opt_value: -0.6116555555555567\u001b[0m\n",
      "\u001b[34mnext_params: {'num_tree': 106, 'sample_size': 185, 'threshold_level': 99.77546345040149}, opt_value: -0.7465171650055361\u001b[0m\n",
      "\u001b[34mnext_params: {'num_tree': 108, 'sample_size': 164, 'threshold_level': 99.49954803608128}, opt_value: -0.6741819190238487\u001b[0m\n",
      "\u001b[34mnext_params: {'num_tree': 113, 'sample_size': 238, 'threshold_level': 99.46889020659748}, opt_value: -0.6691652800887405\u001b[0m\n",
      "\u001b[34mnext_params: {'num_tree': 113, 'sample_size': 115, 'threshold_level': 99.66343936531007}, opt_value: -0.6741819190238487\u001b[0m\n",
      "\u001b[34mnext_params: {'num_tree': 106, 'sample_size': 173, 'threshold_level': 99.80000000000001}, opt_value: -0.7465171650055361\u001b[0m\n",
      "\u001b[34mnext_params: {'num_tree': 102, 'sample_size': 181, 'threshold_level': 99.80000000000001}, opt_value: -0.7465171650055361\u001b[0m\n",
      "\u001b[34mnext_params: {'num_tree': 100, 'sample_size': 171, 'threshold_level': 99.75102345573673}, opt_value: -0.7465171650055361\u001b[0m\n",
      "\u001b[34mnext_params: {'num_tree': 102, 'sample_size': 190, 'threshold_level': 99.70974245585307}, opt_value: -0.7465171650055361\u001b[0m\n",
      "\u001b[34mnext_params: {'num_tree': 100, 'sample_size': 177, 'threshold_level': 99.71447440953257}, opt_value: -0.7465171650055361\u001b[0m\n",
      "\u001b[34mnext_params: {'num_tree': 101, 'sample_size': 156, 'threshold_level': 99.74538306244555}, opt_value: -0.7465171650055361\u001b[0m\n",
      "\u001b[34mnext_params: {'num_tree': 103, 'sample_size': 156, 'threshold_level': 99.74156709046447}, opt_value: -0.7465171650055361\u001b[0m\n",
      "\u001b[34mnext_params: {'num_tree': 102, 'sample_size': 179, 'threshold_level': 99.7732766237422}, opt_value: -0.7465171650055361\u001b[0m\n",
      "\u001b[34mnext_params: {'num_tree': 100, 'sample_size': 180, 'threshold_level': 99.58844040873133}, opt_value: -0.6741819190238487\u001b[0m\n",
      "\u001b[34mnext_params: {'num_tree': 111, 'sample_size': 171, 'threshold_level': 99.80000000000001}, opt_value: -0.7465171650055361\u001b[0m\n",
      "\u001b[34mThe model (rrcf) is a parameter learning process using Bayesian Opt. (Number of learning iterations: 13)\u001b[0m\n",
      "\u001b[34mnext_params: {'num_tree': 119, 'sample_size': 220, 'threshold_level': 99.38936294459359}, opt_value: -0.6741819190238487\u001b[0m\n",
      "\u001b[34mnext_params: {'num_tree': 117, 'sample_size': 166, 'threshold_level': 99.18357516434135}, opt_value: -0.6269379521424583\u001b[0m\n",
      "\u001b[34mnext_params: {'num_tree': 102, 'sample_size': 233, 'threshold_level': 99.80000000000001}, opt_value: -0.7465171650055361\u001b[0m\n",
      "\u001b[34mnext_params: {'num_tree': 110, 'sample_size': 238, 'threshold_level': 99.80000000000001}, opt_value: -0.7465171650055361\u001b[0m\n",
      "\u001b[34mnext_params: {'num_tree': 111, 'sample_size': 168, 'threshold_level': 99.01872640073114}, opt_value: -0.597576516416248\u001b[0m\n",
      "\u001b[34mnext_params: {'num_tree': 103, 'sample_size': 173, 'threshold_level': 99.26795136767028}, opt_value: -0.6116555555555567\u001b[0m\n",
      "\u001b[34mnext_params: {'num_tree': 106, 'sample_size': 185, 'threshold_level': 99.77546345040149}, opt_value: -0.7465171650055361\u001b[0m\n",
      "\u001b[34mnext_params: {'num_tree': 108, 'sample_size': 164, 'threshold_level': 99.49954803608128}, opt_value: -0.6741819190238487\u001b[0m\n",
      "\u001b[34mnext_params: {'num_tree': 113, 'sample_size': 238, 'threshold_level': 99.46889020659748}, opt_value: -0.6691652800887405\u001b[0m\n",
      "\u001b[34mnext_params: {'num_tree': 113, 'sample_size': 115, 'threshold_level': 99.66343936531007}, opt_value: -0.6741819190238487\u001b[0m\n",
      "\u001b[34mnext_params: {'num_tree': 106, 'sample_size': 173, 'threshold_level': 99.80000000000001}, opt_value: -0.7465171650055361\u001b[0m\n",
      "\u001b[34mnext_params: {'num_tree': 102, 'sample_size': 181, 'threshold_level': 99.80000000000001}, opt_value: -0.7465171650055361\u001b[0m\n",
      "\u001b[34mnext_params: {'num_tree': 100, 'sample_size': 171, 'threshold_level': 99.75102345573673}, opt_value: -0.7465171650055361\u001b[0m\n",
      "\u001b[34m[INFO] The selected model for the group is rrcf, and the training score is 0.7465171650055361.\u001b[0m\n",
      "\u001b[34mThe key and model for the training result are ['value'] and rrcf, respectively.\u001b[0m\n",
      "\u001b[34mSaved : /opt/program/framework/.output/pad-train/train_model_score.json\u001b[0m\n",
      "\u001b[34mSave modeling score as a json file. (file path:/opt/program/framework/.output/pad-train/train_model_score.json)\u001b[0m\n",
      "\u001b[34mSaved : /opt/program/framework/.storage/pad-train/models/ad_inference.pkl\u001b[0m\n",
      "\u001b[34mSave training result as a pkl file. (file path:/opt/program/framework/.storage/pad-train/models/ad_inference.pkl)  \u001b[0m\n",
      "\u001b[34mSaved : /opt/program/framework/workflows/anomaly detectoin -pad-train-20230331042949/interface/train.tfrecord\u001b[0m\n",
      "\u001b[34m#033[92m\u001b[0m\n",
      "\u001b[34m################################# STEP OUTPUT #####################################033[0m\n",
      " ARGUMENTS  : ['/opt/program/framework/scripts/data_output/tabular/asset_output.py', 'output_path=/opt/program/framework/external/pad-train/', 'rename_file=none', 'rename_columns=none']\u001b[0m\n",
      "\u001b[34m#033[94m=========================== METADATA STORE ============================#033[0m\u001b[0m\n",
      "\u001b[34m#033[94mSTORE TYPE    : WORKFLOW#033[0m\u001b[0m\n",
      "\u001b[34m#033[94mDATABASE TYPE : SQLITE#033[0m\u001b[0m\n",
      "\u001b[34m#033[94mDATABASE FILE : /opt/program/framework/.storage/pad-train/pad-train.db#033[0m\u001b[0m\n",
      "\u001b[34m#033[94m=======================================================================#033[0m\u001b[0m\n",
      "\u001b[34m[METADATA][LOG][INFO] : version check success!!\u001b[0m\n",
      "\u001b[34m#033[94m========================== ASSET INFORMATION ==========================#033[0m\u001b[0m\n",
      "\u001b[34m#033[94mTIME(KST)    : 2023-03-31 13:33:00#033[0m\u001b[0m\n",
      "\u001b[34m#033[94mWORKSPACE    : ai-advisor#033[0m\u001b[0m\n",
      "\u001b[34m#033[94mPROJECT      : anomaly detectoin #033[0m\u001b[0m\n",
      "\u001b[34m#033[94mWORKFLOW     : pad-train#033[0m\u001b[0m\n",
      "\u001b[34m#033[94mWORKFLOW KEY : anomaly detectoin -pad-train-20230331042949#033[0m\u001b[0m\n",
      "\u001b[34m#033[94mASSET NAME   : output#033[0m\u001b[0m\n",
      "\u001b[34m#033[94masset ver.   : v.1.1.0#033[0m\u001b[0m\n",
      "\u001b[34m#033[94maiplib ver.  : 1.1.0#033[0m\u001b[0m\n",
      "\u001b[34m#033[94maiptfx ver.  : 0.6.4#033[0m\u001b[0m\n",
      "\u001b[34m#033[94m=======================================================================#033[0m\u001b[0m\n",
      "\u001b[34mLoaded : /opt/program/framework/workflows/anomaly detectoin -pad-train-20230331042949/interface/train.tfrecord\u001b[0m\n",
      "\u001b[34m************************************************************\u001b[0m\n",
      "\u001b[34m#011output -> run\u001b[0m\n",
      "\u001b[34m************************************************************\u001b[0m\n",
      "\u001b[34m{'aiptfx': '0.6.4', 'aiplib': '1.1.0', 'asset': 'v.1.1.0'}\u001b[0m\n",
      "\u001b[34mfatal: not a git repository (or any of the parent directories): .git\u001b[0m\n",
      "\u001b[34m[METADATA][LOG][INFO] : The results will be served /opt/program/framework/.output/pad-train/ to /opt/program/framework/external/pad-train/ folder.\u001b[0m\n",
      "\u001b[34mFinish Train Pipeline!\u001b[0m\n",
      "\u001b[34mTrain models moved into /opt/ml/model path!\u001b[0m\n",
      "\u001b[34mcp: cannot stat '/opt/program/framework/output/pad-train/*': No such file or directory\u001b[0m\n",
      "\u001b[34mTrain output moved into model/train_output path!\u001b[0m\n",
      "\u001b[34mInference config yaml moved into model/inference_config path!\u001b[0m\n",
      "\n",
      "2023-03-31 04:33:18 Uploading - Uploading generated training model\n",
      "2023-03-31 04:33:18 Completed - Training job completed\n",
      "Training seconds: 317\n",
      "Billable seconds: 317\n"
     ]
    }
   ],
   "source": [
    "########################################CHANGE####################################################\n",
    "# Create an estimator object for running a training job\n",
    "estimator = sagemaker.algorithm.AlgorithmEstimator(\n",
    "    algorithm_arn=algo_arn,\n",
    "    base_job_name=\"ai-advisor-upad\",\n",
    "    role=role,\n",
    "    instance_count=1,\n",
    "    instance_type='ml.c5.xlarge',\n",
    "    input_mode=\"File\",\n",
    "    output_path=output_location,\n",
    "    sagemaker_session=sagemaker_session,\n",
    "    hyperparameters=hyperparameters,\n",
    ")\n",
    "##################################################################################################\n",
    "\n",
    "# Run the training job.\n",
    "estimator.fit({'training': training_data})"
   ]
  },
  {
   "cell_type": "markdown",
   "metadata": {},
   "source": [
    "See this [blog-post](https://aws.amazon.com/blogs/machine-learning/easily-monitor-and-visualize-metrics-while-training-models-on-amazon-sagemaker/) for more information how to visualize metrics during the process. You can also open the training job from [Amazon SageMaker console](https://console.aws.amazon.com/sagemaker/home?#/jobs/) and monitor the metrics/logs in **Monitor** section."
   ]
  },
  {
   "cell_type": "markdown",
   "metadata": {},
   "source": [
    "## 4: Deploy model and verify results"
   ]
  },
  {
   "cell_type": "markdown",
   "metadata": {},
   "source": [
    "Now you can deploy the model for performing real-time inference."
   ]
  },
  {
   "cell_type": "code",
   "execution_count": 47,
   "metadata": {
    "tags": []
   },
   "outputs": [],
   "source": [
    "########################################CHANGE####################################################\n",
    "model_name = \"ai-advisor-upad\"\n",
    "content_type='text/csv'\n",
    "\n",
    "# set instance type\n",
    "instance_type = 'ml.c5.2xlarge'\n",
    "##################################################################################################"
   ]
  },
  {
   "cell_type": "markdown",
   "metadata": {},
   "source": [
    "### A. Deploy trained model"
   ]
  },
  {
   "cell_type": "code",
   "execution_count": 72,
   "metadata": {
    "tags": []
   },
   "outputs": [
    {
     "name": "stderr",
     "output_type": "stream",
     "text": [
      "INFO:sagemaker:Creating model package with name: ai-advisor-upad-2023-03-30-14-33-29-058\n"
     ]
    },
    {
     "name": "stdout",
     "output_type": "stream",
     "text": [
      "..........\n"
     ]
    },
    {
     "name": "stderr",
     "output_type": "stream",
     "text": [
      "INFO:sagemaker:Creating model with name: ai-advisor-upad-2023-03-30-14-33-29-058\n",
      "INFO:sagemaker:Creating endpoint-config with name ai-advisor-upad-2023-03-30-14-33-29-058\n",
      "INFO:sagemaker:Creating endpoint with name ai-advisor-upad-2023-03-30-14-33-29-058\n"
     ]
    },
    {
     "name": "stdout",
     "output_type": "stream",
     "text": [
      "-----!"
     ]
    }
   ],
   "source": [
    "from sagemaker.predictor import csv_serializer\n",
    "\n",
    "# deploy model\n",
    "predictor = estimator.deploy(\n",
    "    initial_instance_count=1, \n",
    "    instance_type= instance_type, \n",
    "    serializer=csv_serializer)"
   ]
  },
  {
   "cell_type": "markdown",
   "metadata": {},
   "source": [
    "Once endpoint is created, you can perform real-time inference."
   ]
  },
  {
   "cell_type": "markdown",
   "metadata": {},
   "source": [
    "### B. Create input payload"
   ]
  },
  {
   "cell_type": "code",
   "execution_count": 73,
   "metadata": {
    "tags": []
   },
   "outputs": [],
   "source": [
    "file_name = \"data/inference/test.csv\""
   ]
  },
  {
   "cell_type": "markdown",
   "metadata": {},
   "source": [
    "<Add code snippet that shows the payload contents>"
   ]
  },
  {
   "cell_type": "markdown",
   "metadata": {},
   "source": [
    "### C. Perform real-time inference"
   ]
  },
  {
   "cell_type": "code",
   "execution_count": 74,
   "metadata": {
    "tags": []
   },
   "outputs": [],
   "source": [
    "import pandas as pd\n",
    "import io\n",
    "\n",
    "runtime = boto3.client('sagemaker-runtime', region_name=aws_region, aws_access_key_id=aws_access_key, aws_secret_access_key=aws_secret_key)\n",
    "\n",
    "response = runtime.invoke_endpoint(\n",
    "    EndpointName=predictor.endpoint_name,\n",
    "    ContentType=content_type,\n",
    "    #Body=file_name.encode('utf-8'),\n",
    "    Body=open(file_name, 'rb').read(),\n",
    "    Accept=content_type\n",
    ")\n",
    "\n",
    "content = response['Body'].read()\n",
    "binary_stream = io.BytesIO(content)"
   ]
  },
  {
   "cell_type": "code",
   "execution_count": 75,
   "metadata": {
    "tags": []
   },
   "outputs": [
    {
     "data": {
      "text/html": [
       "<div>\n",
       "<style scoped>\n",
       "    .dataframe tbody tr th:only-of-type {\n",
       "        vertical-align: middle;\n",
       "    }\n",
       "\n",
       "    .dataframe tbody tr th {\n",
       "        vertical-align: top;\n",
       "    }\n",
       "\n",
       "    .dataframe thead th {\n",
       "        text-align: right;\n",
       "    }\n",
       "</style>\n",
       "<table border=\"1\" class=\"dataframe\">\n",
       "  <thead>\n",
       "    <tr style=\"text-align: right;\">\n",
       "      <th></th>\n",
       "      <th>index</th>\n",
       "      <th>timestamp</th>\n",
       "      <th>value</th>\n",
       "      <th>anomaly</th>\n",
       "      <th>anomaly_detection</th>\n",
       "      <th>anomaly_score</th>\n",
       "      <th>model_name</th>\n",
       "      <th>threshold_upper</th>\n",
       "      <th>threshold_lower</th>\n",
       "      <th>decision_rule</th>\n",
       "    </tr>\n",
       "  </thead>\n",
       "  <tbody>\n",
       "    <tr>\n",
       "      <th>3408</th>\n",
       "      <td>3408</td>\n",
       "      <td>2014-03-21 02:56:00</td>\n",
       "      <td>46.948</td>\n",
       "      <td>False</td>\n",
       "      <td>False</td>\n",
       "      <td>0.011620</td>\n",
       "      <td>rrcf</td>\n",
       "      <td>0.513029</td>\n",
       "      <td>NaN</td>\n",
       "      <td>upper</td>\n",
       "    </tr>\n",
       "    <tr>\n",
       "      <th>3409</th>\n",
       "      <td>3409</td>\n",
       "      <td>2014-03-21 03:01:00</td>\n",
       "      <td>25.422</td>\n",
       "      <td>True</td>\n",
       "      <td>False</td>\n",
       "      <td>0.000000</td>\n",
       "      <td>rrcf</td>\n",
       "      <td>0.513029</td>\n",
       "      <td>NaN</td>\n",
       "      <td>upper</td>\n",
       "    </tr>\n",
       "    <tr>\n",
       "      <th>3410</th>\n",
       "      <td>3410</td>\n",
       "      <td>2014-03-21 03:06:00</td>\n",
       "      <td>57.958</td>\n",
       "      <td>False</td>\n",
       "      <td>False</td>\n",
       "      <td>0.291291</td>\n",
       "      <td>rrcf</td>\n",
       "      <td>0.513029</td>\n",
       "      <td>NaN</td>\n",
       "      <td>upper</td>\n",
       "    </tr>\n",
       "    <tr>\n",
       "      <th>3411</th>\n",
       "      <td>3411</td>\n",
       "      <td>2014-03-21 03:11:00</td>\n",
       "      <td>28.052</td>\n",
       "      <td>False</td>\n",
       "      <td>False</td>\n",
       "      <td>0.445745</td>\n",
       "      <td>rrcf</td>\n",
       "      <td>0.513029</td>\n",
       "      <td>NaN</td>\n",
       "      <td>upper</td>\n",
       "    </tr>\n",
       "    <tr>\n",
       "      <th>3412</th>\n",
       "      <td>3412</td>\n",
       "      <td>2014-03-21 03:16:00</td>\n",
       "      <td>56.572</td>\n",
       "      <td>False</td>\n",
       "      <td>False</td>\n",
       "      <td>0.458555</td>\n",
       "      <td>rrcf</td>\n",
       "      <td>0.513029</td>\n",
       "      <td>NaN</td>\n",
       "      <td>upper</td>\n",
       "    </tr>\n",
       "    <tr>\n",
       "      <th>3413</th>\n",
       "      <td>3413</td>\n",
       "      <td>2014-03-21 03:21:00</td>\n",
       "      <td>25.352</td>\n",
       "      <td>False</td>\n",
       "      <td>False</td>\n",
       "      <td>0.000000</td>\n",
       "      <td>rrcf</td>\n",
       "      <td>0.513029</td>\n",
       "      <td>NaN</td>\n",
       "      <td>upper</td>\n",
       "    </tr>\n",
       "    <tr>\n",
       "      <th>3414</th>\n",
       "      <td>3414</td>\n",
       "      <td>2014-03-21 03:26:00</td>\n",
       "      <td>38.216</td>\n",
       "      <td>False</td>\n",
       "      <td>False</td>\n",
       "      <td>0.175338</td>\n",
       "      <td>rrcf</td>\n",
       "      <td>0.513029</td>\n",
       "      <td>NaN</td>\n",
       "      <td>upper</td>\n",
       "    </tr>\n",
       "    <tr>\n",
       "      <th>3415</th>\n",
       "      <td>3415</td>\n",
       "      <td>2014-03-21 03:31:00</td>\n",
       "      <td>22.864</td>\n",
       "      <td>False</td>\n",
       "      <td>False</td>\n",
       "      <td>0.000000</td>\n",
       "      <td>rrcf</td>\n",
       "      <td>0.513029</td>\n",
       "      <td>NaN</td>\n",
       "      <td>upper</td>\n",
       "    </tr>\n",
       "    <tr>\n",
       "      <th>3416</th>\n",
       "      <td>3416</td>\n",
       "      <td>2014-03-21 03:36:00</td>\n",
       "      <td>66.260</td>\n",
       "      <td>False</td>\n",
       "      <td>False</td>\n",
       "      <td>0.503243</td>\n",
       "      <td>rrcf</td>\n",
       "      <td>0.513029</td>\n",
       "      <td>NaN</td>\n",
       "      <td>upper</td>\n",
       "    </tr>\n",
       "    <tr>\n",
       "      <th>3417</th>\n",
       "      <td>3417</td>\n",
       "      <td>2014-03-21 03:41:00</td>\n",
       "      <td>30.962</td>\n",
       "      <td>False</td>\n",
       "      <td>False</td>\n",
       "      <td>0.402267</td>\n",
       "      <td>rrcf</td>\n",
       "      <td>0.513029</td>\n",
       "      <td>NaN</td>\n",
       "      <td>upper</td>\n",
       "    </tr>\n",
       "  </tbody>\n",
       "</table>\n",
       "</div>"
      ],
      "text/plain": [
       "      index            timestamp   value  anomaly  anomaly_detection  \\\n",
       "3408   3408  2014-03-21 02:56:00  46.948    False              False   \n",
       "3409   3409  2014-03-21 03:01:00  25.422     True              False   \n",
       "3410   3410  2014-03-21 03:06:00  57.958    False              False   \n",
       "3411   3411  2014-03-21 03:11:00  28.052    False              False   \n",
       "3412   3412  2014-03-21 03:16:00  56.572    False              False   \n",
       "3413   3413  2014-03-21 03:21:00  25.352    False              False   \n",
       "3414   3414  2014-03-21 03:26:00  38.216    False              False   \n",
       "3415   3415  2014-03-21 03:31:00  22.864    False              False   \n",
       "3416   3416  2014-03-21 03:36:00  66.260    False              False   \n",
       "3417   3417  2014-03-21 03:41:00  30.962    False              False   \n",
       "\n",
       "      anomaly_score model_name  threshold_upper  threshold_lower decision_rule  \n",
       "3408       0.011620       rrcf         0.513029              NaN         upper  \n",
       "3409       0.000000       rrcf         0.513029              NaN         upper  \n",
       "3410       0.291291       rrcf         0.513029              NaN         upper  \n",
       "3411       0.445745       rrcf         0.513029              NaN         upper  \n",
       "3412       0.458555       rrcf         0.513029              NaN         upper  \n",
       "3413       0.000000       rrcf         0.513029              NaN         upper  \n",
       "3414       0.175338       rrcf         0.513029              NaN         upper  \n",
       "3415       0.000000       rrcf         0.513029              NaN         upper  \n",
       "3416       0.503243       rrcf         0.513029              NaN         upper  \n",
       "3417       0.402267       rrcf         0.513029              NaN         upper  "
      ]
     },
     "metadata": {},
     "output_type": "display_data"
    },
    {
     "data": {
      "text/html": [
       "<div>\n",
       "<style scoped>\n",
       "    .dataframe tbody tr th:only-of-type {\n",
       "        vertical-align: middle;\n",
       "    }\n",
       "\n",
       "    .dataframe tbody tr th {\n",
       "        vertical-align: top;\n",
       "    }\n",
       "\n",
       "    .dataframe thead th {\n",
       "        text-align: right;\n",
       "    }\n",
       "</style>\n",
       "<table border=\"1\" class=\"dataframe\">\n",
       "  <thead>\n",
       "    <tr style=\"text-align: right;\">\n",
       "      <th></th>\n",
       "      <th>index</th>\n",
       "      <th>timestamp</th>\n",
       "      <th>value</th>\n",
       "      <th>anomaly</th>\n",
       "      <th>anomaly_detection</th>\n",
       "      <th>anomaly_score</th>\n",
       "      <th>model_name</th>\n",
       "      <th>threshold_upper</th>\n",
       "      <th>threshold_lower</th>\n",
       "      <th>decision_rule</th>\n",
       "    </tr>\n",
       "  </thead>\n",
       "  <tbody>\n",
       "    <tr>\n",
       "      <th>0</th>\n",
       "      <td>2777</td>\n",
       "      <td>2014-03-18 22:21:00</td>\n",
       "      <td>54.508</td>\n",
       "      <td>False</td>\n",
       "      <td>True</td>\n",
       "      <td>0.604043</td>\n",
       "      <td>rrcf</td>\n",
       "      <td>0.513029</td>\n",
       "      <td>NaN</td>\n",
       "      <td>upper</td>\n",
       "    </tr>\n",
       "    <tr>\n",
       "      <th>1</th>\n",
       "      <td>2780</td>\n",
       "      <td>2014-03-18 22:36:00</td>\n",
       "      <td>65.680</td>\n",
       "      <td>False</td>\n",
       "      <td>True</td>\n",
       "      <td>0.872745</td>\n",
       "      <td>rrcf</td>\n",
       "      <td>0.513029</td>\n",
       "      <td>NaN</td>\n",
       "      <td>upper</td>\n",
       "    </tr>\n",
       "    <tr>\n",
       "      <th>2</th>\n",
       "      <td>2781</td>\n",
       "      <td>2014-03-18 22:41:00</td>\n",
       "      <td>99.248</td>\n",
       "      <td>True</td>\n",
       "      <td>True</td>\n",
       "      <td>1.000000</td>\n",
       "      <td>rrcf</td>\n",
       "      <td>0.513029</td>\n",
       "      <td>NaN</td>\n",
       "      <td>upper</td>\n",
       "    </tr>\n",
       "  </tbody>\n",
       "</table>\n",
       "</div>"
      ],
      "text/plain": [
       "   index            timestamp   value  anomaly  anomaly_detection  \\\n",
       "0   2777  2014-03-18 22:21:00  54.508    False               True   \n",
       "1   2780  2014-03-18 22:36:00  65.680    False               True   \n",
       "2   2781  2014-03-18 22:41:00  99.248     True               True   \n",
       "\n",
       "   anomaly_score model_name  threshold_upper  threshold_lower decision_rule  \n",
       "0       0.604043       rrcf         0.513029              NaN         upper  \n",
       "1       0.872745       rrcf         0.513029              NaN         upper  \n",
       "2       1.000000       rrcf         0.513029              NaN         upper  "
      ]
     },
     "metadata": {},
     "output_type": "display_data"
    }
   ],
   "source": [
    "import tarfile\n",
    "from PIL import Image\n",
    "\n",
    "\n",
    "with tarfile.open(fileobj=binary_stream, mode='r') as tar:\n",
    "    csv_contents = list()\n",
    "    image_contents = list()\n",
    "    for member in tar.getmembers():\n",
    "        if member.name.endswith('.csv'):\n",
    "            csv_contents.append(tar.extractfile(member).read())\n",
    "        elif member.name.endswith('.png'):\n",
    "            image_contents.append(tar.extractfile(member).read())\n",
    "\n",
    "if len(csv_contents) != 0 :\n",
    "    for csv_raw in csv_contents:\n",
    "        result_df = pd.read_csv(io.StringIO(csv_raw.decode('utf-8')))\n",
    "        display(result_df.tail(10))\n",
    "        \n",
    "if len(image_contents) != 0 : \n",
    "    for img_raw in image_contents:\n",
    "        img = Image.open(io.BytesIO(png_contents))\n",
    "\n"
   ]
  },
  {
   "cell_type": "markdown",
   "metadata": {},
   "source": [
    "### D. Visualize output"
   ]
  },
  {
   "cell_type": "code",
   "execution_count": 67,
   "metadata": {
    "tags": []
   },
   "outputs": [
    {
     "data": {
      "text/html": [
       "<div>\n",
       "<style scoped>\n",
       "    .dataframe tbody tr th:only-of-type {\n",
       "        vertical-align: middle;\n",
       "    }\n",
       "\n",
       "    .dataframe tbody tr th {\n",
       "        vertical-align: top;\n",
       "    }\n",
       "\n",
       "    .dataframe thead th {\n",
       "        text-align: right;\n",
       "    }\n",
       "</style>\n",
       "<table border=\"1\" class=\"dataframe\">\n",
       "  <thead>\n",
       "    <tr style=\"text-align: right;\">\n",
       "      <th></th>\n",
       "      <th>index</th>\n",
       "      <th>timestamp</th>\n",
       "      <th>value</th>\n",
       "      <th>anomaly</th>\n",
       "      <th>anomaly_detection</th>\n",
       "      <th>anomaly_score</th>\n",
       "      <th>model_name</th>\n",
       "      <th>threshold_upper</th>\n",
       "      <th>threshold_lower</th>\n",
       "      <th>decision_rule</th>\n",
       "    </tr>\n",
       "  </thead>\n",
       "  <tbody>\n",
       "    <tr>\n",
       "      <th>0</th>\n",
       "      <td>2777</td>\n",
       "      <td>2014-03-18 22:21:00</td>\n",
       "      <td>54.508</td>\n",
       "      <td>False</td>\n",
       "      <td>True</td>\n",
       "      <td>0.604043</td>\n",
       "      <td>rrcf</td>\n",
       "      <td>0.513029</td>\n",
       "      <td>NaN</td>\n",
       "      <td>upper</td>\n",
       "    </tr>\n",
       "    <tr>\n",
       "      <th>1</th>\n",
       "      <td>2780</td>\n",
       "      <td>2014-03-18 22:36:00</td>\n",
       "      <td>65.680</td>\n",
       "      <td>False</td>\n",
       "      <td>True</td>\n",
       "      <td>0.872745</td>\n",
       "      <td>rrcf</td>\n",
       "      <td>0.513029</td>\n",
       "      <td>NaN</td>\n",
       "      <td>upper</td>\n",
       "    </tr>\n",
       "    <tr>\n",
       "      <th>2</th>\n",
       "      <td>2781</td>\n",
       "      <td>2014-03-18 22:41:00</td>\n",
       "      <td>99.248</td>\n",
       "      <td>True</td>\n",
       "      <td>True</td>\n",
       "      <td>1.000000</td>\n",
       "      <td>rrcf</td>\n",
       "      <td>0.513029</td>\n",
       "      <td>NaN</td>\n",
       "      <td>upper</td>\n",
       "    </tr>\n",
       "  </tbody>\n",
       "</table>\n",
       "</div>"
      ],
      "text/plain": [
       "   index            timestamp   value  anomaly  anomaly_detection  \\\n",
       "0   2777  2014-03-18 22:21:00  54.508    False               True   \n",
       "1   2780  2014-03-18 22:36:00  65.680    False               True   \n",
       "2   2781  2014-03-18 22:41:00  99.248     True               True   \n",
       "\n",
       "   anomaly_score model_name  threshold_upper  threshold_lower decision_rule  \n",
       "0       0.604043       rrcf         0.513029              NaN         upper  \n",
       "1       0.872745       rrcf         0.513029              NaN         upper  \n",
       "2       1.000000       rrcf         0.513029              NaN         upper  "
      ]
     },
     "execution_count": 67,
     "metadata": {},
     "output_type": "execute_result"
    }
   ],
   "source": [
    "# print result\n",
    "result_df.tail(20)"
   ]
  },
  {
   "cell_type": "markdown",
   "metadata": {},
   "source": [
    "### F. Delete the endpoint"
   ]
  },
  {
   "cell_type": "markdown",
   "metadata": {},
   "source": [
    "Now that you have successfully performed a real-time inference, you do not need the endpoint any more. you can terminate the same to avoid being charged."
   ]
  },
  {
   "cell_type": "code",
   "execution_count": null,
   "metadata": {
    "tags": []
   },
   "outputs": [],
   "source": [
    "predictor.delete_endpoint(delete_endpoint_config=True)"
   ]
  },
  {
   "cell_type": "markdown",
   "metadata": {},
   "source": [
    "Since this is an experiment, you do not need to run a hyperparameter tuning job. However, if you would like to see how to tune a model trained using a third-party algorithm with Amazon SageMaker's hyperparameter tuning functionality, you can run the optional tuning step."
   ]
  },
  {
   "cell_type": "markdown",
   "metadata": {},
   "source": [
    "<font color='red'>For seller to update: Review/update the tuner configuration including but not limited to `base_tuning_job_name`, `max_jobs`, and `max_parallel_jobs`. </font>"
   ]
  },
  {
   "cell_type": "code",
   "execution_count": null,
   "metadata": {},
   "outputs": [],
   "source": [
    "tuner = HyperparameterTuner(\n",
    "    estimator=estimator,\n",
    "    base_tuning_job_name=\"<For Seller to update: Specify base job name>\",\n",
    "    objective_metric_name=objective_metric_name,\n",
    "    objective_type=tuning_direction,\n",
    "    hyperparameter_ranges=hyperparameter_ranges,\n",
    "    max_jobs=50,\n",
    "    max_parallel_jobs=7,\n",
    ")"
   ]
  },
  {
   "cell_type": "markdown",
   "metadata": {},
   "source": [
    "<font color='red'>For seller to update: Uncomment following lines, specify appropriate channels, and run the tuner to test it out. </font>"
   ]
  },
  {
   "cell_type": "code",
   "execution_count": null,
   "metadata": {},
   "outputs": [],
   "source": [
    "# Uncomment following two lines to run Hyperparameter optimization job.\n",
    "# tuner.fit({'training':  data})\n",
    "# tuner.wait()"
   ]
  },
  {
   "cell_type": "markdown",
   "metadata": {},
   "source": [
    "<font color='red'>For seller to update: Once you have tested the code written in the preceding cell, comment three lines in the preceding cell so that customers who choose to simply run entire notebook do not end up triggering a tuning job. </font>"
   ]
  },
  {
   "cell_type": "markdown",
   "metadata": {},
   "source": [
    "Once you have completed a tuning job, (or even while the job is still running) you can [clone and use this notebook](https://github.com/awslabs/amazon-sagemaker-examples/blob/master/hyperparameter_tuning/analyze_results/HPO_Analyze_TuningJob_Results.ipynb) to analyze the results to understand how each hyperparameter effects the quality of the model."
   ]
  },
  {
   "cell_type": "markdown",
   "metadata": {},
   "source": [
    "## 5. Perform Batch inference"
   ]
  },
  {
   "cell_type": "markdown",
   "metadata": {},
   "source": [
    "In this section, you will perform batch inference using multiple input payloads together."
   ]
  },
  {
   "cell_type": "code",
   "execution_count": null,
   "metadata": {
    "tags": []
   },
   "outputs": [],
   "source": [
    "########################################CHANGE####################################################\n",
    "# upload the batch-transform job input files to S3\n",
    "transform_dataset = \"data/inference/test.csv\"\n",
    "##################################################################################################\n",
    "\n",
    "transform_input = sagemaker_session.upload_data(transform_dataset, key_prefix=model_name)\n",
    "print(\"Transform input uploaded to : \" + transform_input)"
   ]
  },
  {
   "cell_type": "code",
   "execution_count": null,
   "metadata": {
    "tags": []
   },
   "outputs": [],
   "source": [
    "# Run the batch-transform job\n",
    "transformer = estimator.transformer(instance_count=1, instance_type=instance_type)\n",
    "transformer.transform(transform_input, content_type=content_type)\n",
    "transformer.wait()"
   ]
  },
  {
   "cell_type": "code",
   "execution_count": null,
   "metadata": {
    "tags": []
   },
   "outputs": [],
   "source": [
    "# output is available on following path\n",
    "transformer.output_path"
   ]
  },
  {
   "cell_type": "markdown",
   "metadata": {},
   "source": [
    "## 7. Clean-up"
   ]
  },
  {
   "cell_type": "markdown",
   "metadata": {},
   "source": [
    "### A. Delete the model"
   ]
  },
  {
   "cell_type": "code",
   "execution_count": null,
   "metadata": {
    "tags": []
   },
   "outputs": [],
   "source": [
    "predictor.delete_model()"
   ]
  }
 ],
 "metadata": {
  "kernelspec": {
   "display_name": "Python 3 (ipykernel)",
   "language": "python",
   "name": "python3"
  },
  "language_info": {
   "codemirror_mode": {
    "name": "ipython",
    "version": 3
   },
   "file_extension": ".py",
   "mimetype": "text/x-python",
   "name": "python",
   "nbconvert_exporter": "python",
   "pygments_lexer": "ipython3",
   "version": "3.8.16"
  },
  "widgets": {
   "application/vnd.jupyter.widget-state+json": {
    "state": {},
    "version_major": 2,
    "version_minor": 0
   }
  }
 },
 "nbformat": 4,
 "nbformat_minor": 4
}
